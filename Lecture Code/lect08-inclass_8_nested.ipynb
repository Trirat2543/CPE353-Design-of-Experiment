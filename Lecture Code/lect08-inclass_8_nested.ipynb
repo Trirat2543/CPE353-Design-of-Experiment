{
  "nbformat": 4,
  "nbformat_minor": 0,
  "metadata": {
    "hide_input": false,
    "kernelspec": {
      "display_name": "Python 3",
      "language": "python",
      "name": "python3"
    },
    "language_info": {
      "codemirror_mode": {
        "name": "ipython",
        "version": 3
      },
      "file_extension": ".py",
      "mimetype": "text/x-python",
      "name": "python",
      "nbconvert_exporter": "python",
      "pygments_lexer": "ipython3",
      "version": "3.7.7"
    },
    "latex_envs": {
      "LaTeX_envs_menu_present": true,
      "autoclose": true,
      "autocomplete": true,
      "bibliofile": "biblio.bib",
      "cite_by": "apalike",
      "current_citInitial": 1,
      "eqLabelWithNumbers": true,
      "eqNumInitial": 1,
      "hotkeys": {
        "equation": "Ctrl-E",
        "itemize": "Ctrl-I"
      },
      "labels_anchors": false,
      "latex_user_defs": false,
      "report_style_numbering": true,
      "user_envs_cfg": false
    },
    "toc": {
      "base_numbering": 1,
      "nav_menu": {},
      "number_sections": true,
      "sideBar": true,
      "skip_h1_title": true,
      "title_cell": "Table of Contents",
      "title_sidebar": "Contents",
      "toc_cell": true,
      "toc_position": {},
      "toc_section_display": true,
      "toc_window_display": true
    },
    "varInspector": {
      "cols": {
        "lenName": 16,
        "lenType": 16,
        "lenVar": 40
      },
      "kernels_config": {
        "python": {
          "delete_cmd_postfix": "",
          "delete_cmd_prefix": "del ",
          "library": "var_list.py",
          "varRefreshCmd": "print(var_dic_list())"
        },
        "r": {
          "delete_cmd_postfix": ") ",
          "delete_cmd_prefix": "rm(",
          "library": "var_list.r",
          "varRefreshCmd": "cat(var_dic_list()) "
        }
      },
      "types_to_exclude": [
        "module",
        "function",
        "builtin_function_or_method",
        "instance",
        "_Feature"
      ],
      "window_display": false
    },
    "colab": {
      "name": "inclass 8 nested",
      "provenance": [],
      "collapsed_sections": []
    }
  },
  "cells": [
    {
      "cell_type": "markdown",
      "metadata": {
        "id": "sU_jqMU4BoTf"
      },
      "source": [
        "**no.1**"
      ]
    },
    {
      "cell_type": "code",
      "metadata": {
        "id": "msfGjVMrxrh6",
        "colab": {
          "base_uri": "https://localhost:8080/",
          "height": 426
        },
        "outputId": "90952a08-2e76-43c7-8198-ce3249ee2589"
      },
      "source": [
        "import pandas as pd\n",
        "score_df = pd.read_excel('/content/score.xlsx', header=0)\n",
        "score_df"
      ],
      "execution_count": null,
      "outputs": [
        {
          "output_type": "execute_result",
          "data": {
            "text/html": [
              "<div>\n",
              "<style scoped>\n",
              "    .dataframe tbody tr th:only-of-type {\n",
              "        vertical-align: middle;\n",
              "    }\n",
              "\n",
              "    .dataframe tbody tr th {\n",
              "        vertical-align: top;\n",
              "    }\n",
              "\n",
              "    .dataframe thead th {\n",
              "        text-align: right;\n",
              "    }\n",
              "</style>\n",
              "<table border=\"1\" class=\"dataframe\">\n",
              "  <thead>\n",
              "    <tr style=\"text-align: right;\">\n",
              "      <th></th>\n",
              "      <th>Score</th>\n",
              "      <th>School</th>\n",
              "      <th>Instructor</th>\n",
              "      <th>Session</th>\n",
              "    </tr>\n",
              "  </thead>\n",
              "  <tbody>\n",
              "    <tr>\n",
              "      <th>0</th>\n",
              "      <td>25</td>\n",
              "      <td>1</td>\n",
              "      <td>1</td>\n",
              "      <td>1</td>\n",
              "    </tr>\n",
              "    <tr>\n",
              "      <th>1</th>\n",
              "      <td>29</td>\n",
              "      <td>1</td>\n",
              "      <td>1</td>\n",
              "      <td>2</td>\n",
              "    </tr>\n",
              "    <tr>\n",
              "      <th>2</th>\n",
              "      <td>14</td>\n",
              "      <td>1</td>\n",
              "      <td>2</td>\n",
              "      <td>1</td>\n",
              "    </tr>\n",
              "    <tr>\n",
              "      <th>3</th>\n",
              "      <td>11</td>\n",
              "      <td>1</td>\n",
              "      <td>2</td>\n",
              "      <td>2</td>\n",
              "    </tr>\n",
              "    <tr>\n",
              "      <th>4</th>\n",
              "      <td>11</td>\n",
              "      <td>2</td>\n",
              "      <td>1</td>\n",
              "      <td>1</td>\n",
              "    </tr>\n",
              "    <tr>\n",
              "      <th>5</th>\n",
              "      <td>6</td>\n",
              "      <td>2</td>\n",
              "      <td>1</td>\n",
              "      <td>2</td>\n",
              "    </tr>\n",
              "    <tr>\n",
              "      <th>6</th>\n",
              "      <td>22</td>\n",
              "      <td>2</td>\n",
              "      <td>2</td>\n",
              "      <td>1</td>\n",
              "    </tr>\n",
              "    <tr>\n",
              "      <th>7</th>\n",
              "      <td>18</td>\n",
              "      <td>2</td>\n",
              "      <td>2</td>\n",
              "      <td>2</td>\n",
              "    </tr>\n",
              "    <tr>\n",
              "      <th>8</th>\n",
              "      <td>17</td>\n",
              "      <td>3</td>\n",
              "      <td>1</td>\n",
              "      <td>1</td>\n",
              "    </tr>\n",
              "    <tr>\n",
              "      <th>9</th>\n",
              "      <td>20</td>\n",
              "      <td>3</td>\n",
              "      <td>1</td>\n",
              "      <td>2</td>\n",
              "    </tr>\n",
              "    <tr>\n",
              "      <th>10</th>\n",
              "      <td>5</td>\n",
              "      <td>3</td>\n",
              "      <td>2</td>\n",
              "      <td>1</td>\n",
              "    </tr>\n",
              "    <tr>\n",
              "      <th>11</th>\n",
              "      <td>2</td>\n",
              "      <td>3</td>\n",
              "      <td>2</td>\n",
              "      <td>2</td>\n",
              "    </tr>\n",
              "  </tbody>\n",
              "</table>\n",
              "</div>"
            ],
            "text/plain": [
              "    Score  School  Instructor  Session\n",
              "0      25       1           1        1\n",
              "1      29       1           1        2\n",
              "2      14       1           2        1\n",
              "3      11       1           2        2\n",
              "4      11       2           1        1\n",
              "5       6       2           1        2\n",
              "6      22       2           2        1\n",
              "7      18       2           2        2\n",
              "8      17       3           1        1\n",
              "9      20       3           1        2\n",
              "10      5       3           2        1\n",
              "11      2       3           2        2"
            ]
          },
          "metadata": {},
          "execution_count": 1
        }
      ]
    },
    {
      "cell_type": "code",
      "metadata": {
        "id": "GH0wLcBLx_T_",
        "colab": {
          "base_uri": "https://localhost:8080/"
        },
        "outputId": "fc63f88c-1651-4797-9f30-101c0f1aa14d"
      },
      "source": [
        "from statsmodels.formula.api import ols\n",
        "\n",
        "formula = 'Score ~ C(School) + C(Instructor) + C(School):C(Instructor)'\n",
        "\n",
        "score_lm = ols(formula, data=score_df).fit()"
      ],
      "execution_count": null,
      "outputs": [
        {
          "output_type": "stream",
          "name": "stderr",
          "text": [
            "/usr/local/lib/python3.7/dist-packages/statsmodels/tools/_testing.py:19: FutureWarning: pandas.util.testing is deprecated. Use the functions in the public API at pandas.testing instead.\n",
            "  import pandas.util.testing as tm\n"
          ]
        }
      ]
    },
    {
      "cell_type": "code",
      "metadata": {
        "id": "pIKcWMQTyn8h",
        "colab": {
          "base_uri": "https://localhost:8080/",
          "height": 401
        },
        "outputId": "c8e9cb6b-da75-4e64-baa3-889b3118490b"
      },
      "source": [
        "score_lm.summary2()"
      ],
      "execution_count": null,
      "outputs": [
        {
          "output_type": "execute_result",
          "data": {
            "text/html": [
              "<table class=\"simpletable\">\n",
              "<tr>\n",
              "        <td>Model:</td>               <td>OLS</td>         <td>Adj. R-squared:</td>    <td>0.899</td> \n",
              "</tr>\n",
              "<tr>\n",
              "  <td>Dependent Variable:</td>       <td>Score</td>             <td>AIC:</td>         <td>61.0877</td>\n",
              "</tr>\n",
              "<tr>\n",
              "         <td>Date:</td>        <td>2021-10-28 02:55</td>        <td>BIC:</td>         <td>63.9971</td>\n",
              "</tr>\n",
              "<tr>\n",
              "   <td>No. Observations:</td>         <td>12</td>          <td>Log-Likelihood:</td>   <td>-24.544</td>\n",
              "</tr>\n",
              "<tr>\n",
              "       <td>Df Model:</td>              <td>5</td>           <td>F-statistic:</td>      <td>20.69</td> \n",
              "</tr>\n",
              "<tr>\n",
              "     <td>Df Residuals:</td>            <td>6</td>        <td>Prob (F-statistic):</td> <td>0.00102</td>\n",
              "</tr>\n",
              "<tr>\n",
              "      <td>R-squared:</td>            <td>0.945</td>            <td>Scale:</td>        <td>7.0000</td> \n",
              "</tr>\n",
              "</table>\n",
              "<table class=\"simpletable\">\n",
              "<tr>\n",
              "                  <td></td>                    <th>Coef.</th>  <th>Std.Err.</th>    <th>t</th>     <th>P>|t|</th>  <th>[0.025</th>   <th>0.975]</th> \n",
              "</tr>\n",
              "<tr>\n",
              "  <th>Intercept</th>                          <td>27.0000</td>  <td>1.8708</td>  <td>14.4321</td> <td>0.0000</td>  <td>22.4222</td>  <td>31.5778</td>\n",
              "</tr>\n",
              "<tr>\n",
              "  <th>C(School)[T.2]</th>                    <td>-18.5000</td>  <td>2.6458</td>  <td>-6.9923</td> <td>0.0004</td> <td>-24.9739</td> <td>-12.0261</td>\n",
              "</tr>\n",
              "<tr>\n",
              "  <th>C(School)[T.3]</th>                     <td>-8.5000</td>  <td>2.6458</td>  <td>-3.2127</td> <td>0.0183</td> <td>-14.9739</td>  <td>-2.0261</td>\n",
              "</tr>\n",
              "<tr>\n",
              "  <th>C(Instructor)[T.2]</th>                <td>-14.5000</td>  <td>2.6458</td>  <td>-5.4805</td> <td>0.0015</td> <td>-20.9739</td>  <td>-8.0261</td>\n",
              "</tr>\n",
              "<tr>\n",
              "  <th>C(School)[T.2]:C(Instructor)[T.2]</th>  <td>26.0000</td>  <td>3.7417</td>  <td>6.9488</td>  <td>0.0004</td>  <td>16.8445</td>  <td>35.1555</td>\n",
              "</tr>\n",
              "<tr>\n",
              "  <th>C(School)[T.3]:C(Instructor)[T.2]</th>  <td>-0.5000</td>  <td>3.7417</td>  <td>-0.1336</td> <td>0.8981</td>  <td>-9.6555</td>  <td>8.6555</td> \n",
              "</tr>\n",
              "</table>\n",
              "<table class=\"simpletable\">\n",
              "<tr>\n",
              "     <td>Omnibus:</td>     <td>9.957</td>  <td>Durbin-Watson:</td>   <td>2.875</td>\n",
              "</tr>\n",
              "<tr>\n",
              "  <td>Prob(Omnibus):</td>  <td>0.007</td> <td>Jarque-Bera (JB):</td> <td>1.668</td>\n",
              "</tr>\n",
              "<tr>\n",
              "       <td>Skew:</td>     <td>-0.000</td>     <td>Prob(JB):</td>     <td>0.434</td>\n",
              "</tr>\n",
              "<tr>\n",
              "     <td>Kurtosis:</td>    <td>1.173</td>  <td>Condition No.:</td>    <td>10</td>  \n",
              "</tr>\n",
              "</table>"
            ],
            "text/plain": [
              "<class 'statsmodels.iolib.summary2.Summary'>\n",
              "\"\"\"\n",
              "                          Results: Ordinary least squares\n",
              "====================================================================================\n",
              "Model:                      OLS                    Adj. R-squared:           0.899  \n",
              "Dependent Variable:         Score                  AIC:                      61.0877\n",
              "Date:                       2021-10-28 02:55       BIC:                      63.9971\n",
              "No. Observations:           12                     Log-Likelihood:           -24.544\n",
              "Df Model:                   5                      F-statistic:              20.69  \n",
              "Df Residuals:               6                      Prob (F-statistic):       0.00102\n",
              "R-squared:                  0.945                  Scale:                    7.0000 \n",
              "------------------------------------------------------------------------------------\n",
              "                                   Coef.   Std.Err.    t    P>|t|   [0.025   0.975] \n",
              "------------------------------------------------------------------------------------\n",
              "Intercept                          27.0000   1.8708 14.4321 0.0000  22.4222  31.5778\n",
              "C(School)[T.2]                    -18.5000   2.6458 -6.9923 0.0004 -24.9739 -12.0261\n",
              "C(School)[T.3]                     -8.5000   2.6458 -3.2127 0.0183 -14.9739  -2.0261\n",
              "C(Instructor)[T.2]                -14.5000   2.6458 -5.4805 0.0015 -20.9739  -8.0261\n",
              "C(School)[T.2]:C(Instructor)[T.2]  26.0000   3.7417  6.9488 0.0004  16.8445  35.1555\n",
              "C(School)[T.3]:C(Instructor)[T.2]  -0.5000   3.7417 -0.1336 0.8981  -9.6555   8.6555\n",
              "------------------------------------------------------------------------------------\n",
              "Omnibus:                    9.957               Durbin-Watson:                 2.875\n",
              "Prob(Omnibus):              0.007               Jarque-Bera (JB):              1.668\n",
              "Skew:                       -0.000              Prob(JB):                      0.434\n",
              "Kurtosis:                   1.173               Condition No.:                 10   \n",
              "====================================================================================\n",
              "\n",
              "\"\"\""
            ]
          },
          "metadata": {},
          "execution_count": 22
        }
      ]
    },
    {
      "cell_type": "code",
      "metadata": {
        "id": "b21uPBfYzN_k",
        "colab": {
          "base_uri": "https://localhost:8080/"
        },
        "outputId": "9212085d-4a88-4138-e293-51b838aed092"
      },
      "source": [
        "print('\\nEnabling interactive shell outputs ...')\n",
        "print('   Use command pass; to disable cell text outputs')\n",
        "from IPython.core.interactiveshell import InteractiveShell\n",
        "InteractiveShell.ast_node_interactivity = \"all\"\n",
        "\n",
        "import warnings\n",
        "warnings.filterwarnings('ignore') \n",
        "warnings.simplefilter(action=\"ignore\",category=UserWarning)\n",
        "warnings.simplefilter(action=\"ignore\",category=FutureWarning)\n",
        "\n",
        "import pandas as pd \n",
        "import numpy as np\n",
        "import matplotlib.pyplot as plt\n",
        "import seaborn as sns\n",
        "from scipy import stats\n",
        "import statsmodels.api as sm\n",
        "\n",
        "\n",
        "\n",
        "%matplotlib inline\n",
        "%config InlineBackend.figure_formats = {'png', 'retina'}"
      ],
      "execution_count": null,
      "outputs": [
        {
          "output_type": "stream",
          "name": "stdout",
          "text": [
            "\n",
            "Enabling interactive shell outputs ...\n",
            "   Use command pass; to disable cell text outputs\n"
          ]
        }
      ]
    },
    {
      "cell_type": "code",
      "metadata": {
        "id": "zT83sfKIy6Nv",
        "colab": {
          "base_uri": "https://localhost:8080/",
          "height": 173
        },
        "outputId": "cec7a4b3-8662-4380-b0f3-fbf0d6de8877"
      },
      "source": [
        "from statsmodels.stats.anova import anova_lm\n",
        "aov_table = anova_lm(score_lm) \n",
        "aov_table"
      ],
      "execution_count": null,
      "outputs": [
        {
          "output_type": "execute_result",
          "data": {
            "text/html": [
              "<div>\n",
              "<style scoped>\n",
              "    .dataframe tbody tr th:only-of-type {\n",
              "        vertical-align: middle;\n",
              "    }\n",
              "\n",
              "    .dataframe tbody tr th {\n",
              "        vertical-align: top;\n",
              "    }\n",
              "\n",
              "    .dataframe thead th {\n",
              "        text-align: right;\n",
              "    }\n",
              "</style>\n",
              "<table border=\"1\" class=\"dataframe\">\n",
              "  <thead>\n",
              "    <tr style=\"text-align: right;\">\n",
              "      <th></th>\n",
              "      <th>df</th>\n",
              "      <th>sum_sq</th>\n",
              "      <th>mean_sq</th>\n",
              "      <th>F</th>\n",
              "      <th>PR(&gt;F)</th>\n",
              "    </tr>\n",
              "  </thead>\n",
              "  <tbody>\n",
              "    <tr>\n",
              "      <th>C(School)</th>\n",
              "      <td>2.0</td>\n",
              "      <td>156.5</td>\n",
              "      <td>78.25</td>\n",
              "      <td>11.178571</td>\n",
              "      <td>0.009473</td>\n",
              "    </tr>\n",
              "    <tr>\n",
              "      <th>C(Instructor)</th>\n",
              "      <td>1.0</td>\n",
              "      <td>108.0</td>\n",
              "      <td>108.00</td>\n",
              "      <td>15.428571</td>\n",
              "      <td>0.007731</td>\n",
              "    </tr>\n",
              "    <tr>\n",
              "      <th>C(School):C(Instructor)</th>\n",
              "      <td>2.0</td>\n",
              "      <td>459.5</td>\n",
              "      <td>229.75</td>\n",
              "      <td>32.821429</td>\n",
              "      <td>0.000587</td>\n",
              "    </tr>\n",
              "    <tr>\n",
              "      <th>Residual</th>\n",
              "      <td>6.0</td>\n",
              "      <td>42.0</td>\n",
              "      <td>7.00</td>\n",
              "      <td>NaN</td>\n",
              "      <td>NaN</td>\n",
              "    </tr>\n",
              "  </tbody>\n",
              "</table>\n",
              "</div>"
            ],
            "text/plain": [
              "                          df  sum_sq  mean_sq          F    PR(>F)\n",
              "C(School)                2.0   156.5    78.25  11.178571  0.009473\n",
              "C(Instructor)            1.0   108.0   108.00  15.428571  0.007731\n",
              "C(School):C(Instructor)  2.0   459.5   229.75  32.821429  0.000587\n",
              "Residual                 6.0    42.0     7.00        NaN       NaN"
            ]
          },
          "metadata": {},
          "execution_count": 23
        }
      ]
    },
    {
      "cell_type": "code",
      "metadata": {
        "id": "1YSX6JSE1AlV",
        "colab": {
          "base_uri": "https://localhost:8080/"
        },
        "outputId": "5dec8a02-b11f-43ad-d9d2-7e83a74324cc"
      },
      "source": [
        "108 + 459.5 #ssb(a)"
      ],
      "execution_count": null,
      "outputs": [
        {
          "output_type": "execute_result",
          "data": {
            "text/plain": [
              "567.5"
            ]
          },
          "metadata": {},
          "execution_count": 24
        }
      ]
    },
    {
      "cell_type": "code",
      "metadata": {
        "id": "0WITxwHU1mNa",
        "colab": {
          "base_uri": "https://localhost:8080/"
        },
        "outputId": "969a260c-28e5-4be4-d344-34f428f68646"
      },
      "source": [
        "(567.5/3)/7 #ssb(a)/df(ba)+1/df(resi)+1"
      ],
      "execution_count": null,
      "outputs": [
        {
          "output_type": "execute_result",
          "data": {
            "text/plain": [
              "27.023809523809522"
            ]
          },
          "metadata": {},
          "execution_count": 26
        }
      ]
    },
    {
      "cell_type": "code",
      "source": [
        "(2817.6633/7)/13"
      ],
      "metadata": {
        "id": "ZXmtq6OMUVUN"
      },
      "execution_count": null,
      "outputs": []
    },
    {
      "cell_type": "code",
      "metadata": {
        "id": "18BBG0zj2CO-",
        "colab": {
          "base_uri": "https://localhost:8080/"
        },
        "outputId": "c27b41e9-952f-46e4-e9ea-e423c1446e64"
      },
      "source": [
        "stats.f.isf(0.05,3,6) #หา f-test"
      ],
      "execution_count": null,
      "outputs": [
        {
          "output_type": "execute_result",
          "data": {
            "text/plain": [
              "4.757062663089414"
            ]
          },
          "metadata": {},
          "execution_count": 27
        }
      ]
    },
    {
      "cell_type": "code",
      "metadata": {
        "id": "Vr_KZ57f4ApP"
      },
      "source": [
        "F0 = MSTr/MSE\n",
        "p_value = stats.f.sf(F0, a-1,(a-1)*(b-1))"
      ],
      "execution_count": null,
      "outputs": []
    },
    {
      "cell_type": "markdown",
      "metadata": {
        "id": "vImxbJpKBkVK"
      },
      "source": [
        "**no.2**\n"
      ]
    },
    {
      "cell_type": "code",
      "metadata": {
        "id": "aoEe9BloHQBW"
      },
      "source": [
        "a = 3\n",
        "b = 10\n",
        "n = 3"
      ],
      "execution_count": null,
      "outputs": []
    },
    {
      "cell_type": "markdown",
      "metadata": {
        "id": "tUEnE7asF0-O"
      },
      "source": [
        "Confident interval 95%"
      ]
    },
    {
      "cell_type": "code",
      "metadata": {
        "colab": {
          "base_uri": "https://localhost:8080/"
        },
        "id": "Ph7_D_ZbbpGY",
        "outputId": "b089ee70-ae45-41fe-b17b-d58185261be4"
      },
      "source": [
        "import pandas as pd \n",
        "import numpy as np\n",
        "import matplotlib.pyplot as plt\n",
        "import seaborn as sns\n",
        "from scipy import stats\n",
        "import statsmodels.api as sm\n",
        "from statsmodels.formula.api import ols\n",
        "from statsmodels.stats.anova import anova_lm"
      ],
      "execution_count": null,
      "outputs": [
        {
          "output_type": "stream",
          "name": "stderr",
          "text": [
            "/usr/local/lib/python3.7/dist-packages/statsmodels/tools/_testing.py:19: FutureWarning: pandas.util.testing is deprecated. Use the functions in the public API at pandas.testing instead.\n",
            "  import pandas.util.testing as tm\n"
          ]
        }
      ]
    },
    {
      "cell_type": "code",
      "metadata": {
        "colab": {
          "base_uri": "https://localhost:8080/"
        },
        "id": "rNwTwii2Bnbs",
        "outputId": "74eae483-6064-4a80-8b7d-ffebb5b42bd4"
      },
      "source": [
        "L = (7.769-2.639)/(3) #msba-mse/n ค่าจากตาราง\n",
        "L #sigms^2beta=L"
      ],
      "execution_count": null,
      "outputs": [
        {
          "output_type": "execute_result",
          "data": {
            "text/plain": [
              "1.7100000000000002"
            ]
          },
          "metadata": {},
          "execution_count": 49
        }
      ]
    },
    {
      "cell_type": "code",
      "metadata": {
        "id": "_rD6rMUwUfZT"
      },
      "source": [
        "C1 = 1/3 #MS1=MSb(a)=7.769\n",
        "C2 = -1/3 #MS2=MSE=2.639"
      ],
      "execution_count": null,
      "outputs": []
    },
    {
      "cell_type": "code",
      "metadata": {
        "colab": {
          "base_uri": "https://localhost:8080/"
        },
        "id": "QD6B2ZC6RIKi",
        "outputId": "9d854c0f-4b17-41c0-81b0-4196f844a0f2"
      },
      "source": [
        "df = (((C1*7.769)+(C2*2.639))**2) / ((((C1*7.769)**2)/9) + (((C2*2.639)**2)/24)) #df1=9 df2=24\n",
        "df"
      ],
      "execution_count": null,
      "outputs": [
        {
          "output_type": "execute_result",
          "data": {
            "text/plain": [
              "3.7614091069612767"
            ]
          },
          "metadata": {},
          "execution_count": 48
        }
      ]
    },
    {
      "cell_type": "code",
      "source": [
        "#005f5f\n",
        "#5f00af\n",
        "#86592d\n",
        "#005f5f"
      ],
      "metadata": {
        "id": "6tgpRFZMH1hK"
      },
      "execution_count": null,
      "outputs": []
    },
    {
      "cell_type": "code",
      "metadata": {
        "colab": {
          "base_uri": "https://localhost:8080/"
        },
        "id": "Ee8ys-qaWyDD",
        "outputId": "eeb32adf-69d2-4a22-ae19-3fe376680f87"
      },
      "source": [
        "df_ = 3  #หาช่วง เอาไปถอดรูทเพิ่มก็ได้\n",
        "left = (df_*L)/stats.chi2.isf(0.05/2,df_)\n",
        "right = (df_*L)/stats.chi2.isf(1-(0.05/2),df_)\n",
        "print(left)\n",
        "print(right)"
      ],
      "execution_count": null,
      "outputs": [
        {
          "output_type": "stream",
          "name": "stdout",
          "text": [
            "0.5487567949604476\n",
            "23.772530787621054\n"
          ]
        }
      ]
    }
  ]
}