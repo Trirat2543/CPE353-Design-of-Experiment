{
  "nbformat": 4,
  "nbformat_minor": 0,
  "metadata": {
    "hide_input": false,
    "kernelspec": {
      "display_name": "Python 3",
      "language": "python",
      "name": "python3"
    },
    "language_info": {
      "codemirror_mode": {
        "name": "ipython",
        "version": 3
      },
      "file_extension": ".py",
      "mimetype": "text/x-python",
      "name": "python",
      "nbconvert_exporter": "python",
      "pygments_lexer": "ipython3",
      "version": "3.7.7"
    },
    "latex_envs": {
      "LaTeX_envs_menu_present": true,
      "autoclose": true,
      "autocomplete": true,
      "bibliofile": "biblio.bib",
      "cite_by": "apalike",
      "current_citInitial": 1,
      "eqLabelWithNumbers": true,
      "eqNumInitial": 1,
      "hotkeys": {
        "equation": "Ctrl-E",
        "itemize": "Ctrl-I"
      },
      "labels_anchors": false,
      "latex_user_defs": false,
      "report_style_numbering": true,
      "user_envs_cfg": false
    },
    "toc": {
      "base_numbering": 1,
      "nav_menu": {},
      "number_sections": true,
      "sideBar": true,
      "skip_h1_title": true,
      "title_cell": "Table of Contents",
      "title_sidebar": "Contents",
      "toc_cell": true,
      "toc_position": {},
      "toc_section_display": true,
      "toc_window_display": true
    },
    "varInspector": {
      "cols": {
        "lenName": 16,
        "lenType": 16,
        "lenVar": 40
      },
      "kernels_config": {
        "python": {
          "delete_cmd_postfix": "",
          "delete_cmd_prefix": "del ",
          "library": "var_list.py",
          "varRefreshCmd": "print(var_dic_list())"
        },
        "r": {
          "delete_cmd_postfix": ") ",
          "delete_cmd_prefix": "rm(",
          "library": "var_list.r",
          "varRefreshCmd": "cat(var_dic_list()) "
        }
      },
      "types_to_exclude": [
        "module",
        "function",
        "builtin_function_or_method",
        "instance",
        "_Feature"
      ],
      "window_display": false
    },
    "colab": {
      "name": "lect06-ancova.ipynb",
      "provenance": [],
      "collapsed_sections": []
    }
  },
  "cells": [
    {
      "cell_type": "markdown",
      "metadata": {
        "id": "ocFIFCQtdwWl"
      },
      "source": [
        "# Analysis of Covariance"
      ]
    },
    {
      "cell_type": "markdown",
      "metadata": {
        "toc": true,
        "id": "wf68vHEMdwWq"
      },
      "source": [
        "<h1>Table of Contents<span class=\"tocSkip\"></span></h1>\n",
        "<div class=\"toc\"><ul class=\"toc-item\"><li><span><a href=\"#Single-factor-Analysis\" data-toc-modified-id=\"Single-factor-Analysis-1\"><span class=\"toc-item-num\">1&nbsp;&nbsp;</span>Single-factor Analysis</a></span><ul class=\"toc-item\"><li><span><a href=\"#ANOVA-model\" data-toc-modified-id=\"ANOVA-model-1.1\"><span class=\"toc-item-num\">1.1&nbsp;&nbsp;</span>ANOVA model</a></span></li><li><span><a href=\"#ANCOVA-model\" data-toc-modified-id=\"ANCOVA-model-1.2\"><span class=\"toc-item-num\">1.2&nbsp;&nbsp;</span>ANCOVA model</a></span></li><li><span><a href=\"#Partial-F-test-for-treatment-effects\" data-toc-modified-id=\"Partial-F-test-for-treatment-effects-1.3\"><span class=\"toc-item-num\">1.3&nbsp;&nbsp;</span>Partial F-test for treatment effects</a></span></li><li><span><a href=\"#Covariance-of-estimators\" data-toc-modified-id=\"Covariance-of-estimators-1.4\"><span class=\"toc-item-num\">1.4&nbsp;&nbsp;</span>Covariance of estimators</a></span></li></ul></li><li><span><a href=\"#Two-factor--Analysis\" data-toc-modified-id=\"Two-factor--Analysis-2\"><span class=\"toc-item-num\">2&nbsp;&nbsp;</span>Two-factor  Analysis</a></span><ul class=\"toc-item\"><li><span><a href=\"#Model-fitting\" data-toc-modified-id=\"Model-fitting-2.1\"><span class=\"toc-item-num\">2.1&nbsp;&nbsp;</span>Model fitting</a></span></li><li><span><a href=\"#Covariance-matrix-of-estimators\" data-toc-modified-id=\"Covariance-matrix-of-estimators-2.2\"><span class=\"toc-item-num\">2.2&nbsp;&nbsp;</span>Covariance matrix of estimators</a></span></li></ul></li></ul></div>"
      ]
    },
    {
      "cell_type": "code",
      "metadata": {
        "id": "A0z0-WETdwWs",
        "colab": {
          "base_uri": "https://localhost:8080/"
        },
        "outputId": "1ed03b2e-a4a9-4146-a7c6-0f000682c0b3"
      },
      "source": [
        "print('\\nEnabling interactive shell outputs ...')\n",
        "print('   Use command pass; to disable cell text outputs')\n",
        "from IPython.core.interactiveshell import InteractiveShell\n",
        "InteractiveShell.ast_node_interactivity = \"all\"\n",
        "\n",
        "import warnings\n",
        "warnings.filterwarnings('ignore') \n",
        "warnings.simplefilter(action=\"ignore\",category=UserWarning)\n",
        "warnings.simplefilter(action=\"ignore\",category=FutureWarning)\n",
        "\n",
        "import pandas as pd \n",
        "import numpy as np\n",
        "import matplotlib.pyplot as plt\n",
        "import seaborn as sns\n",
        "from scipy import stats\n",
        "import statsmodels.api as sm\n",
        "\n",
        "\n",
        "\n",
        "%matplotlib inline\n",
        "%config InlineBackend.figure_formats = {'png', 'retina'}"
      ],
      "execution_count": null,
      "outputs": [
        {
          "output_type": "stream",
          "name": "stdout",
          "text": [
            "\n",
            "Enabling interactive shell outputs ...\n",
            "   Use command pass; to disable cell text outputs\n"
          ]
        }
      ]
    },
    {
      "cell_type": "markdown",
      "metadata": {
        "id": "FbmasLkKdwWu"
      },
      "source": [
        "## Single-factor Analysis"
      ]
    },
    {
      "cell_type": "code",
      "metadata": {
        "id": "50IdAKgkdwWv",
        "colab": {
          "base_uri": "https://localhost:8080/",
          "height": 514
        },
        "outputId": "f0f02c1f-5bcd-4e78-ea60-f7c0619d991a"
      },
      "source": [
        "cracker_data = pd.read_excel('/content/lect06-ancova.xlsx', sheet_name='Cracker')\n",
        "cracker_data"
      ],
      "execution_count": null,
      "outputs": [
        {
          "output_type": "execute_result",
          "data": {
            "text/html": [
              "<div>\n",
              "<style scoped>\n",
              "    .dataframe tbody tr th:only-of-type {\n",
              "        vertical-align: middle;\n",
              "    }\n",
              "\n",
              "    .dataframe tbody tr th {\n",
              "        vertical-align: top;\n",
              "    }\n",
              "\n",
              "    .dataframe thead th {\n",
              "        text-align: right;\n",
              "    }\n",
              "</style>\n",
              "<table border=\"1\" class=\"dataframe\">\n",
              "  <thead>\n",
              "    <tr style=\"text-align: right;\">\n",
              "      <th></th>\n",
              "      <th>PromotionSold</th>\n",
              "      <th>PreviousSold</th>\n",
              "      <th>Promotion</th>\n",
              "      <th>Store</th>\n",
              "    </tr>\n",
              "  </thead>\n",
              "  <tbody>\n",
              "    <tr>\n",
              "      <th>0</th>\n",
              "      <td>38</td>\n",
              "      <td>21</td>\n",
              "      <td>1</td>\n",
              "      <td>1</td>\n",
              "    </tr>\n",
              "    <tr>\n",
              "      <th>1</th>\n",
              "      <td>39</td>\n",
              "      <td>26</td>\n",
              "      <td>1</td>\n",
              "      <td>2</td>\n",
              "    </tr>\n",
              "    <tr>\n",
              "      <th>2</th>\n",
              "      <td>36</td>\n",
              "      <td>22</td>\n",
              "      <td>1</td>\n",
              "      <td>3</td>\n",
              "    </tr>\n",
              "    <tr>\n",
              "      <th>3</th>\n",
              "      <td>45</td>\n",
              "      <td>28</td>\n",
              "      <td>1</td>\n",
              "      <td>4</td>\n",
              "    </tr>\n",
              "    <tr>\n",
              "      <th>4</th>\n",
              "      <td>33</td>\n",
              "      <td>19</td>\n",
              "      <td>1</td>\n",
              "      <td>5</td>\n",
              "    </tr>\n",
              "    <tr>\n",
              "      <th>5</th>\n",
              "      <td>43</td>\n",
              "      <td>34</td>\n",
              "      <td>2</td>\n",
              "      <td>1</td>\n",
              "    </tr>\n",
              "    <tr>\n",
              "      <th>6</th>\n",
              "      <td>38</td>\n",
              "      <td>26</td>\n",
              "      <td>2</td>\n",
              "      <td>2</td>\n",
              "    </tr>\n",
              "    <tr>\n",
              "      <th>7</th>\n",
              "      <td>38</td>\n",
              "      <td>29</td>\n",
              "      <td>2</td>\n",
              "      <td>3</td>\n",
              "    </tr>\n",
              "    <tr>\n",
              "      <th>8</th>\n",
              "      <td>27</td>\n",
              "      <td>18</td>\n",
              "      <td>2</td>\n",
              "      <td>4</td>\n",
              "    </tr>\n",
              "    <tr>\n",
              "      <th>9</th>\n",
              "      <td>34</td>\n",
              "      <td>25</td>\n",
              "      <td>2</td>\n",
              "      <td>5</td>\n",
              "    </tr>\n",
              "    <tr>\n",
              "      <th>10</th>\n",
              "      <td>24</td>\n",
              "      <td>23</td>\n",
              "      <td>3</td>\n",
              "      <td>1</td>\n",
              "    </tr>\n",
              "    <tr>\n",
              "      <th>11</th>\n",
              "      <td>32</td>\n",
              "      <td>29</td>\n",
              "      <td>3</td>\n",
              "      <td>2</td>\n",
              "    </tr>\n",
              "    <tr>\n",
              "      <th>12</th>\n",
              "      <td>31</td>\n",
              "      <td>30</td>\n",
              "      <td>3</td>\n",
              "      <td>3</td>\n",
              "    </tr>\n",
              "    <tr>\n",
              "      <th>13</th>\n",
              "      <td>21</td>\n",
              "      <td>16</td>\n",
              "      <td>3</td>\n",
              "      <td>4</td>\n",
              "    </tr>\n",
              "    <tr>\n",
              "      <th>14</th>\n",
              "      <td>28</td>\n",
              "      <td>29</td>\n",
              "      <td>3</td>\n",
              "      <td>5</td>\n",
              "    </tr>\n",
              "  </tbody>\n",
              "</table>\n",
              "</div>"
            ],
            "text/plain": [
              "    PromotionSold  PreviousSold  Promotion  Store\n",
              "0              38            21          1      1\n",
              "1              39            26          1      2\n",
              "2              36            22          1      3\n",
              "3              45            28          1      4\n",
              "4              33            19          1      5\n",
              "5              43            34          2      1\n",
              "6              38            26          2      2\n",
              "7              38            29          2      3\n",
              "8              27            18          2      4\n",
              "9              34            25          2      5\n",
              "10             24            23          3      1\n",
              "11             32            29          3      2\n",
              "12             31            30          3      3\n",
              "13             21            16          3      4\n",
              "14             28            29          3      5"
            ]
          },
          "metadata": {},
          "execution_count": 17
        }
      ]
    },
    {
      "cell_type": "code",
      "metadata": {
        "id": "Hv_wfWzVdwWv"
      },
      "source": [
        "def codingfunc(x):\n",
        "    if x == 1:\n",
        "        return (1,0)\n",
        "    elif x == 2:\n",
        "        return (0,1)\n",
        "    else:\n",
        "        return (-1,-1)\n",
        "\n",
        "cracker_data[['I1', 'I2']] = pd.DataFrame(cracker_data['Promotion'].apply(codingfunc).tolist(), \n",
        "                                           index=cracker_data.index) #เพิ่มคลอลัม treatment 1-3 PromotionSoldคือy  PreviousSoldคือx Promotionคือtreatment  Storeคือreplicate\n",
        "cracker_data.PreviousSold -= cracker_data.PreviousSold.mean() #เอา mean  ไปลบออกจาก covariate ค่าPreviousSold จะเป็นค่าที่เอาไปลบจากค่าเฉลี่ยเรียบร้อยเหมือนหน้า 20"
      ],
      "execution_count": null,
      "outputs": []
    },
    {
      "cell_type": "code",
      "metadata": {
        "id": "EoX5J_eodwWx",
        "colab": {
          "base_uri": "https://localhost:8080/",
          "height": 514
        },
        "outputId": "5d5977fb-96eb-416c-e5e0-836bf6e1d7c2"
      },
      "source": [
        "cracker_data"
      ],
      "execution_count": null,
      "outputs": [
        {
          "output_type": "execute_result",
          "data": {
            "text/html": [
              "<div>\n",
              "<style scoped>\n",
              "    .dataframe tbody tr th:only-of-type {\n",
              "        vertical-align: middle;\n",
              "    }\n",
              "\n",
              "    .dataframe tbody tr th {\n",
              "        vertical-align: top;\n",
              "    }\n",
              "\n",
              "    .dataframe thead th {\n",
              "        text-align: right;\n",
              "    }\n",
              "</style>\n",
              "<table border=\"1\" class=\"dataframe\">\n",
              "  <thead>\n",
              "    <tr style=\"text-align: right;\">\n",
              "      <th></th>\n",
              "      <th>PromotionSold</th>\n",
              "      <th>PreviousSold</th>\n",
              "      <th>Promotion</th>\n",
              "      <th>Store</th>\n",
              "      <th>I1</th>\n",
              "      <th>I2</th>\n",
              "    </tr>\n",
              "  </thead>\n",
              "  <tbody>\n",
              "    <tr>\n",
              "      <th>0</th>\n",
              "      <td>38</td>\n",
              "      <td>-4.0</td>\n",
              "      <td>1</td>\n",
              "      <td>1</td>\n",
              "      <td>1</td>\n",
              "      <td>0</td>\n",
              "    </tr>\n",
              "    <tr>\n",
              "      <th>1</th>\n",
              "      <td>39</td>\n",
              "      <td>1.0</td>\n",
              "      <td>1</td>\n",
              "      <td>2</td>\n",
              "      <td>1</td>\n",
              "      <td>0</td>\n",
              "    </tr>\n",
              "    <tr>\n",
              "      <th>2</th>\n",
              "      <td>36</td>\n",
              "      <td>-3.0</td>\n",
              "      <td>1</td>\n",
              "      <td>3</td>\n",
              "      <td>1</td>\n",
              "      <td>0</td>\n",
              "    </tr>\n",
              "    <tr>\n",
              "      <th>3</th>\n",
              "      <td>45</td>\n",
              "      <td>3.0</td>\n",
              "      <td>1</td>\n",
              "      <td>4</td>\n",
              "      <td>1</td>\n",
              "      <td>0</td>\n",
              "    </tr>\n",
              "    <tr>\n",
              "      <th>4</th>\n",
              "      <td>33</td>\n",
              "      <td>-6.0</td>\n",
              "      <td>1</td>\n",
              "      <td>5</td>\n",
              "      <td>1</td>\n",
              "      <td>0</td>\n",
              "    </tr>\n",
              "    <tr>\n",
              "      <th>5</th>\n",
              "      <td>43</td>\n",
              "      <td>9.0</td>\n",
              "      <td>2</td>\n",
              "      <td>1</td>\n",
              "      <td>0</td>\n",
              "      <td>1</td>\n",
              "    </tr>\n",
              "    <tr>\n",
              "      <th>6</th>\n",
              "      <td>38</td>\n",
              "      <td>1.0</td>\n",
              "      <td>2</td>\n",
              "      <td>2</td>\n",
              "      <td>0</td>\n",
              "      <td>1</td>\n",
              "    </tr>\n",
              "    <tr>\n",
              "      <th>7</th>\n",
              "      <td>38</td>\n",
              "      <td>4.0</td>\n",
              "      <td>2</td>\n",
              "      <td>3</td>\n",
              "      <td>0</td>\n",
              "      <td>1</td>\n",
              "    </tr>\n",
              "    <tr>\n",
              "      <th>8</th>\n",
              "      <td>27</td>\n",
              "      <td>-7.0</td>\n",
              "      <td>2</td>\n",
              "      <td>4</td>\n",
              "      <td>0</td>\n",
              "      <td>1</td>\n",
              "    </tr>\n",
              "    <tr>\n",
              "      <th>9</th>\n",
              "      <td>34</td>\n",
              "      <td>0.0</td>\n",
              "      <td>2</td>\n",
              "      <td>5</td>\n",
              "      <td>0</td>\n",
              "      <td>1</td>\n",
              "    </tr>\n",
              "    <tr>\n",
              "      <th>10</th>\n",
              "      <td>24</td>\n",
              "      <td>-2.0</td>\n",
              "      <td>3</td>\n",
              "      <td>1</td>\n",
              "      <td>-1</td>\n",
              "      <td>-1</td>\n",
              "    </tr>\n",
              "    <tr>\n",
              "      <th>11</th>\n",
              "      <td>32</td>\n",
              "      <td>4.0</td>\n",
              "      <td>3</td>\n",
              "      <td>2</td>\n",
              "      <td>-1</td>\n",
              "      <td>-1</td>\n",
              "    </tr>\n",
              "    <tr>\n",
              "      <th>12</th>\n",
              "      <td>31</td>\n",
              "      <td>5.0</td>\n",
              "      <td>3</td>\n",
              "      <td>3</td>\n",
              "      <td>-1</td>\n",
              "      <td>-1</td>\n",
              "    </tr>\n",
              "    <tr>\n",
              "      <th>13</th>\n",
              "      <td>21</td>\n",
              "      <td>-9.0</td>\n",
              "      <td>3</td>\n",
              "      <td>4</td>\n",
              "      <td>-1</td>\n",
              "      <td>-1</td>\n",
              "    </tr>\n",
              "    <tr>\n",
              "      <th>14</th>\n",
              "      <td>28</td>\n",
              "      <td>4.0</td>\n",
              "      <td>3</td>\n",
              "      <td>5</td>\n",
              "      <td>-1</td>\n",
              "      <td>-1</td>\n",
              "    </tr>\n",
              "  </tbody>\n",
              "</table>\n",
              "</div>"
            ],
            "text/plain": [
              "    PromotionSold  PreviousSold  Promotion  Store  I1  I2\n",
              "0              38          -4.0          1      1   1   0\n",
              "1              39           1.0          1      2   1   0\n",
              "2              36          -3.0          1      3   1   0\n",
              "3              45           3.0          1      4   1   0\n",
              "4              33          -6.0          1      5   1   0\n",
              "5              43           9.0          2      1   0   1\n",
              "6              38           1.0          2      2   0   1\n",
              "7              38           4.0          2      3   0   1\n",
              "8              27          -7.0          2      4   0   1\n",
              "9              34           0.0          2      5   0   1\n",
              "10             24          -2.0          3      1  -1  -1\n",
              "11             32           4.0          3      2  -1  -1\n",
              "12             31           5.0          3      3  -1  -1\n",
              "13             21          -9.0          3      4  -1  -1\n",
              "14             28           4.0          3      5  -1  -1"
            ]
          },
          "metadata": {},
          "execution_count": 19
        }
      ]
    },
    {
      "cell_type": "markdown",
      "metadata": {
        "id": "4UZQaqmTdwWz"
      },
      "source": [
        "### ANOVA model"
      ]
    },
    {
      "cell_type": "code",
      "metadata": {
        "id": "DksIjgs8dwWz",
        "colab": {
          "base_uri": "https://localhost:8080/",
          "height": 111
        },
        "outputId": "0db75e1b-f0f3-499f-cf24-27a4c4f51caa"
      },
      "source": [
        "\n",
        "from statsmodels.stats.anova import anova_lm\n",
        "#ทำตาราง anova ไม่ได้ใช้ covariate ไม่มี PreviousSold เอาแค่โปรโมชั่น\n",
        "formula = 'PromotionSold ~ C(Promotion)'\n",
        "\n",
        "cracker_lm = ols(formula, data=cracker_data).fit()\n",
        "aov_table = anova_lm(cracker_lm) \n",
        "aov_table"
      ],
      "execution_count": null,
      "outputs": [
        {
          "output_type": "execute_result",
          "data": {
            "text/html": [
              "<div>\n",
              "<style scoped>\n",
              "    .dataframe tbody tr th:only-of-type {\n",
              "        vertical-align: middle;\n",
              "    }\n",
              "\n",
              "    .dataframe tbody tr th {\n",
              "        vertical-align: top;\n",
              "    }\n",
              "\n",
              "    .dataframe thead th {\n",
              "        text-align: right;\n",
              "    }\n",
              "</style>\n",
              "<table border=\"1\" class=\"dataframe\">\n",
              "  <thead>\n",
              "    <tr style=\"text-align: right;\">\n",
              "      <th></th>\n",
              "      <th>df</th>\n",
              "      <th>sum_sq</th>\n",
              "      <th>mean_sq</th>\n",
              "      <th>F</th>\n",
              "      <th>PR(&gt;F)</th>\n",
              "    </tr>\n",
              "  </thead>\n",
              "  <tbody>\n",
              "    <tr>\n",
              "      <th>C(Promotion)</th>\n",
              "      <td>2.0</td>\n",
              "      <td>338.8</td>\n",
              "      <td>169.400000</td>\n",
              "      <td>6.608583</td>\n",
              "      <td>0.011612</td>\n",
              "    </tr>\n",
              "    <tr>\n",
              "      <th>Residual</th>\n",
              "      <td>12.0</td>\n",
              "      <td>307.6</td>\n",
              "      <td>25.633333</td>\n",
              "      <td>NaN</td>\n",
              "      <td>NaN</td>\n",
              "    </tr>\n",
              "  </tbody>\n",
              "</table>\n",
              "</div>"
            ],
            "text/plain": [
              "                df  sum_sq     mean_sq         F    PR(>F)\n",
              "C(Promotion)   2.0   338.8  169.400000  6.608583  0.011612\n",
              "Residual      12.0   307.6   25.633333       NaN       NaN"
            ]
          },
          "metadata": {},
          "execution_count": 20
        }
      ]
    },
    {
      "cell_type": "markdown",
      "metadata": {
        "id": "gG4Wioy5dwW1"
      },
      "source": [
        "### ANCOVA model "
      ]
    },
    {
      "cell_type": "code",
      "metadata": {
        "id": "jbE6tI3edwW2",
        "colab": {
          "base_uri": "https://localhost:8080/",
          "height": 359
        },
        "outputId": "d7a34a94-eee3-434c-ab76-4ab41f58837a"
      },
      "source": [
        "from statsmodels.formula.api import ols\n",
        "#ทำตาราง ancova\n",
        "formula = 'PromotionSold ~ I1 + I2 + PreviousSold'\n",
        "cracker_lm = ols(formula, data=cracker_data).fit()\n",
        "cracker_lm.summary2() #intercept คือ มิวcovariate  I1คือT1 I2คือT2  previoussoldคือแกรมม่า อันนี้มันมีตัว covariate เลยต้องทำก่อนเข้าโมเดลกราฟ regression"
      ],
      "execution_count": null,
      "outputs": [
        {
          "output_type": "execute_result",
          "data": {
            "text/html": [
              "<table class=\"simpletable\">\n",
              "<tr>\n",
              "        <td>Model:</td>               <td>OLS</td>         <td>Adj. R-squared:</td>     <td>0.924</td> \n",
              "</tr>\n",
              "<tr>\n",
              "  <td>Dependent Variable:</td>   <td>PromotionSold</td>         <td>AIC:</td>          <td>64.7350</td>\n",
              "</tr>\n",
              "<tr>\n",
              "         <td>Date:</td>        <td>2021-10-14 03:28</td>        <td>BIC:</td>          <td>67.5672</td>\n",
              "</tr>\n",
              "<tr>\n",
              "   <td>No. Observations:</td>         <td>15</td>          <td>Log-Likelihood:</td>    <td>-28.368</td>\n",
              "</tr>\n",
              "<tr>\n",
              "       <td>Df Model:</td>              <td>3</td>           <td>F-statistic:</td>       <td>57.78</td> \n",
              "</tr>\n",
              "<tr>\n",
              "     <td>Df Residuals:</td>           <td>11</td>        <td>Prob (F-statistic):</td> <td>5.08e-07</td>\n",
              "</tr>\n",
              "<tr>\n",
              "      <td>R-squared:</td>            <td>0.940</td>            <td>Scale:</td>         <td>3.5065</td> \n",
              "</tr>\n",
              "</table>\n",
              "<table class=\"simpletable\">\n",
              "<tr>\n",
              "        <td></td>        <th>Coef.</th>  <th>Std.Err.</th>    <th>t</th>     <th>P>|t|</th> <th>[0.025</th>  <th>0.975]</th> \n",
              "</tr>\n",
              "<tr>\n",
              "  <th>Intercept</th>    <td>33.8000</td>  <td>0.4835</td>  <td>69.9079</td> <td>0.0000</td> <td>32.7358</td> <td>34.8642</td>\n",
              "</tr>\n",
              "<tr>\n",
              "  <th>I1</th>           <td>6.0174</td>   <td>0.7083</td>  <td>8.4961</td>  <td>0.0000</td> <td>4.4585</td>  <td>7.5763</td> \n",
              "</tr>\n",
              "<tr>\n",
              "  <th>I2</th>           <td>0.9420</td>   <td>0.6987</td>  <td>1.3483</td>  <td>0.2047</td> <td>-0.5958</td> <td>2.4798</td> \n",
              "</tr>\n",
              "<tr>\n",
              "  <th>PreviousSold</th> <td>0.8986</td>   <td>0.1026</td>  <td>8.7592</td>  <td>0.0000</td> <td>0.6728</td>  <td>1.1243</td> \n",
              "</tr>\n",
              "</table>\n",
              "<table class=\"simpletable\">\n",
              "<tr>\n",
              "     <td>Omnibus:</td>    <td>3.304</td>  <td>Durbin-Watson:</td>   <td>2.497</td>\n",
              "</tr>\n",
              "<tr>\n",
              "  <td>Prob(Omnibus):</td> <td>0.192</td> <td>Jarque-Bera (JB):</td> <td>1.380</td>\n",
              "</tr>\n",
              "<tr>\n",
              "       <td>Skew:</td>     <td>0.337</td>     <td>Prob(JB):</td>     <td>0.502</td>\n",
              "</tr>\n",
              "<tr>\n",
              "     <td>Kurtosis:</td>   <td>1.675</td>  <td>Condition No.:</td>     <td>9</td>  \n",
              "</tr>\n",
              "</table>"
            ],
            "text/plain": [
              "<class 'statsmodels.iolib.summary2.Summary'>\n",
              "\"\"\"\n",
              "                 Results: Ordinary least squares\n",
              "=================================================================\n",
              "Model:              OLS              Adj. R-squared:     0.924   \n",
              "Dependent Variable: PromotionSold    AIC:                64.7350 \n",
              "Date:               2021-10-14 03:28 BIC:                67.5672 \n",
              "No. Observations:   15               Log-Likelihood:     -28.368 \n",
              "Df Model:           3                F-statistic:        57.78   \n",
              "Df Residuals:       11               Prob (F-statistic): 5.08e-07\n",
              "R-squared:          0.940            Scale:              3.5065  \n",
              "------------------------------------------------------------------\n",
              "               Coef.   Std.Err.     t     P>|t|    [0.025   0.975]\n",
              "------------------------------------------------------------------\n",
              "Intercept     33.8000    0.4835  69.9079  0.0000  32.7358  34.8642\n",
              "I1             6.0174    0.7083   8.4961  0.0000   4.4585   7.5763\n",
              "I2             0.9420    0.6987   1.3483  0.2047  -0.5958   2.4798\n",
              "PreviousSold   0.8986    0.1026   8.7592  0.0000   0.6728   1.1243\n",
              "-----------------------------------------------------------------\n",
              "Omnibus:              3.304        Durbin-Watson:           2.497\n",
              "Prob(Omnibus):        0.192        Jarque-Bera (JB):        1.380\n",
              "Skew:                 0.337        Prob(JB):                0.502\n",
              "Kurtosis:             1.675        Condition No.:           9    \n",
              "=================================================================\n",
              "\n",
              "\"\"\""
            ]
          },
          "metadata": {},
          "execution_count": 21
        }
      ]
    },
    {
      "cell_type": "markdown",
      "metadata": {
        "id": "SQt2Om9cxAFU"
      },
      "source": [
        "covariate significant"
      ]
    },
    {
      "cell_type": "code",
      "metadata": {
        "id": "HcpmIoJFdwW3",
        "colab": {
          "base_uri": "https://localhost:8080/"
        },
        "outputId": "0cda9c05-793f-4d33-bb83-a71f1966a4fe"
      },
      "source": [
        "print('MSE (ANCOVA): {:.2f}'.format(cracker_lm.mse_resid))"
      ],
      "execution_count": null,
      "outputs": [
        {
          "output_type": "stream",
          "name": "stdout",
          "text": [
            "MSE (ANCOVA): 3.51\n"
          ]
        }
      ]
    },
    {
      "cell_type": "code",
      "metadata": {
        "id": "tJZhT6LVdwW3"
      },
      "source": [
        "def check_linreg_residuals(model):\n",
        "\n",
        "    kws = dict(color='blue', marker='o', markersize=7, alpha=0.5)\n",
        "    sns1_kws = dict(marker='o', s=70, alpha=0.5)\n",
        "    sns2_kws = dict(marker='o', s=7, alpha=0.5)\n",
        "    \n",
        "    x = model.resid\n",
        "    yhat = model.fittedvalues\n",
        "    \n",
        "    fig = plt.figure(figsize=(9, 7))\n",
        "\n",
        "    ax1 = fig.add_subplot(221)\n",
        "    ax2 = fig.add_subplot(222)\n",
        "    ax3 = fig.add_subplot(223)\n",
        "    ax4 = fig.add_subplot(224)\n",
        "\n",
        "    ax1.scatter(yhat, x, **sns1_kws)\n",
        "    ax1.set_title('Residuals vs. Fitted values')\n",
        "    \n",
        "    n=len(x)\n",
        "    #sns.residplot(np.linspace(1,n,n), x, ax=ax2, scatter_kws=sns1_kws)\n",
        "    #ax2.set_title('Sequence plot')\n",
        "    ax2.scatter(yhat+x, yhat, **sns1_kws)\n",
        "    ax2.set_title('Actual vs. Fitted values')\n",
        "      \n",
        "    # Box plot\n",
        "    ax3.boxplot(x,showmeans=True)\n",
        "    ax3.set_title('Boxplot')\n",
        "\n",
        "    # qq plot\n",
        "    sm.graphics.qqplot(x,line='q', ax=ax4, **kws)\n",
        "    ax4.set_title('Normal Q-Q plot')\n",
        "    plt.tight_layout()"
      ],
      "execution_count": null,
      "outputs": []
    },
    {
      "cell_type": "code",
      "metadata": {
        "scrolled": false,
        "id": "Elma-ACRdwW4",
        "colab": {
          "base_uri": "https://localhost:8080/",
          "height": 512
        },
        "outputId": "b94fd585-d3c8-4290-95ac-fbf147040495"
      },
      "source": [
        "\n",
        "from statsmodels.formula.api import ols #ทำกราฟstatsmodels\n",
        "check_linreg_residuals(cracker_lm)"
      ],
      "execution_count": null,
      "outputs": [
        {
          "output_type": "display_data",
          "data": {
            "image/png": "[encoded data removed]",
            "text/plain": [
              "<Figure size 648x504 with 4 Axes>"
            ]
          },
          "metadata": {
            "image/png": {
              "width": 639,
              "height": 495
            },
            "needs_background": "light"
          }
        }
      ]
    },
    {
      "cell_type": "markdown",
      "metadata": {
        "id": "RyVCSpi2dwW5"
      },
      "source": [
        "### Partial F-test for treatment effects"
      ]
    },
    {
      "cell_type": "code",
      "metadata": {
        "id": "pcGxsVcydwW5",
        "colab": {
          "base_uri": "https://localhost:8080/",
          "height": 317
        },
        "outputId": "4cc11257-af47-451f-c26b-304a4154e83e"
      },
      "source": [
        "cracker_reduced_lm = ols('PromotionSold ~ PreviousSold', data=cracker_data).fit()\n",
        "cracker_reduced_lm.summary2() #การทำที่เอาตัวแปรออกไปแล้วดูว่ายัง significant อยู่หรือเปล่า"
      ],
      "execution_count": null,
      "outputs": [
        {
          "output_type": "execute_result",
          "data": {
            "text/html": [
              "<table class=\"simpletable\">\n",
              "<tr>\n",
              "        <td>Model:</td>               <td>OLS</td>         <td>Adj. R-squared:</td>    <td>0.241</td> \n",
              "</tr>\n",
              "<tr>\n",
              "  <td>Dependent Variable:</td>   <td>PromotionSold</td>         <td>AIC:</td>         <td>97.7757</td>\n",
              "</tr>\n",
              "<tr>\n",
              "         <td>Date:</td>        <td>2021-10-07 02:00</td>        <td>BIC:</td>         <td>99.1918</td>\n",
              "</tr>\n",
              "<tr>\n",
              "   <td>No. Observations:</td>         <td>15</td>          <td>Log-Likelihood:</td>   <td>-46.888</td>\n",
              "</tr>\n",
              "<tr>\n",
              "       <td>Df Model:</td>              <td>1</td>           <td>F-statistic:</td>      <td>5.439</td> \n",
              "</tr>\n",
              "<tr>\n",
              "     <td>Df Residuals:</td>           <td>13</td>        <td>Prob (F-statistic):</td> <td>0.0364</td> \n",
              "</tr>\n",
              "<tr>\n",
              "      <td>R-squared:</td>            <td>0.295</td>            <td>Scale:</td>        <td>35.056</td> \n",
              "</tr>\n",
              "</table>\n",
              "<table class=\"simpletable\">\n",
              "<tr>\n",
              "        <td></td>        <th>Coef.</th>  <th>Std.Err.</th>    <th>t</th>     <th>P>|t|</th> <th>[0.025</th>  <th>0.975]</th> \n",
              "</tr>\n",
              "<tr>\n",
              "  <th>Intercept</th>    <td>33.8000</td>  <td>1.5287</td>  <td>22.1098</td> <td>0.0000</td> <td>30.4974</td> <td>37.1026</td>\n",
              "</tr>\n",
              "<tr>\n",
              "  <th>PreviousSold</th> <td>0.7278</td>   <td>0.3121</td>  <td>2.3322</td>  <td>0.0364</td> <td>0.0536</td>  <td>1.4019</td> \n",
              "</tr>\n",
              "</table>\n",
              "<table class=\"simpletable\">\n",
              "<tr>\n",
              "     <td>Omnibus:</td>     <td>2.085</td>  <td>Durbin-Watson:</td>   <td>0.378</td>\n",
              "</tr>\n",
              "<tr>\n",
              "  <td>Prob(Omnibus):</td>  <td>0.353</td> <td>Jarque-Bera (JB):</td> <td>1.024</td>\n",
              "</tr>\n",
              "<tr>\n",
              "       <td>Skew:</td>     <td>-0.194</td>     <td>Prob(JB):</td>     <td>0.599</td>\n",
              "</tr>\n",
              "<tr>\n",
              "     <td>Kurtosis:</td>    <td>1.780</td>  <td>Condition No.:</td>     <td>5</td>  \n",
              "</tr>\n",
              "</table>"
            ],
            "text/plain": [
              "<class 'statsmodels.iolib.summary2.Summary'>\n",
              "\"\"\"\n",
              "                Results: Ordinary least squares\n",
              "================================================================\n",
              "Model:              OLS              Adj. R-squared:     0.241  \n",
              "Dependent Variable: PromotionSold    AIC:                97.7757\n",
              "Date:               2021-10-07 02:00 BIC:                99.1918\n",
              "No. Observations:   15               Log-Likelihood:     -46.888\n",
              "Df Model:           1                F-statistic:        5.439  \n",
              "Df Residuals:       13               Prob (F-statistic): 0.0364 \n",
              "R-squared:          0.295            Scale:              35.056 \n",
              "----------------------------------------------------------------\n",
              "                  Coef.  Std.Err.    t    P>|t|   [0.025  0.975]\n",
              "----------------------------------------------------------------\n",
              "Intercept        33.8000   1.5287 22.1098 0.0000 30.4974 37.1026\n",
              "PreviousSold      0.7278   0.3121  2.3322 0.0364  0.0536  1.4019\n",
              "----------------------------------------------------------------\n",
              "Omnibus:              2.085        Durbin-Watson:          0.378\n",
              "Prob(Omnibus):        0.353        Jarque-Bera (JB):       1.024\n",
              "Skew:                 -0.194       Prob(JB):               0.599\n",
              "Kurtosis:             1.780        Condition No.:          5    \n",
              "================================================================\n",
              "\n",
              "\"\"\""
            ]
          },
          "metadata": {},
          "execution_count": 10
        }
      ]
    },
    {
      "cell_type": "code",
      "metadata": {
        "id": "_rOlk5tJdwW5",
        "colab": {
          "base_uri": "https://localhost:8080/"
        },
        "outputId": "f5844ed3-c7d2-4453-d9be-651214f3d951"
      },
      "source": [
        "print('SSE_k (reduced model): {:.2f} '.format(cracker_reduced_lm.ssr)) #หาSSE ที่full and reduced \n",
        "print('SSE (full model): {:.2f} '.format(cracker_lm.ssr))\n",
        "print('MSE (full model): {:.2f} '.format(cracker_lm.mse_resid))"
      ],
      "execution_count": null,
      "outputs": [
        {
          "output_type": "stream",
          "name": "stdout",
          "text": [
            "SSE_k (reduced model): 455.72 \n",
            "SSE (full model): 38.57 \n",
            "MSE (full model): 3.51 \n"
          ]
        }
      ]
    },
    {
      "cell_type": "code",
      "metadata": {
        "id": "icLoiCkbdwW5",
        "colab": {
          "base_uri": "https://localhost:8080/"
        },
        "outputId": "325f8210-4188-4e0c-e54e-076998f98615"
      },
      "source": [
        "from scipy import stats #หา F-test\n",
        "k=2\n",
        "partial_F0 = ((cracker_reduced_lm.ssr-cracker_lm.ssr)/k)/cracker_lm.mse_resid\n",
        "print('Test statistic: {:.2f}, P-value: {:.4f}'.format(partial_F0, \n",
        "                                                       stats.f.sf(partial_F0, k, cracker_lm.df_resid)))\n",
        "print('Critical value at 0.05: {:.2f} '.format(stats.f.isf(0.05, k, cracker_lm.df_resid)))"
      ],
      "execution_count": null,
      "outputs": [
        {
          "output_type": "stream",
          "name": "stdout",
          "text": [
            "Test statistic: 59.48, P-value: 0.0000\n",
            "Critical value at 0.05: 3.98 \n"
          ]
        }
      ]
    },
    {
      "cell_type": "markdown",
      "metadata": {
        "id": "qUCKUPKCdwW6"
      },
      "source": [
        "### Covariance of estimators"
      ]
    },
    {
      "cell_type": "code",
      "metadata": {
        "scrolled": false,
        "id": "qw-z7RyBdwW6",
        "colab": {
          "base_uri": "https://localhost:8080/"
        },
        "outputId": "36b37761-0dba-42a0-955f-9019adf63e1f"
      },
      "source": [
        "import statsmodels.api as sm #หาค่า estimators หลังจากที่ testแล้ว covariate มีผล\n",
        "from numpy.linalg import inv\n",
        "\n",
        "Xreg = sm.add_constant(cracker_data[['I1','I2','PreviousSold']]) #ดึงค่า covariate มีผลคือ x = I1,I2 Xij\n",
        "Covmat = cracker_lm.mse_resid*inv(Xreg.T@Xreg) #หาค่า estimators ที่เป็นregression model cov{B}=MSE((X'X)^-1) MSEคือ SSE/N-p\n",
        "np.set_printoptions(precision=4)\n",
        "Covmat"
      ],
      "execution_count": null,
      "outputs": [
        {
          "output_type": "execute_result",
          "data": {
            "text/plain": [
              "array([[ 0.2338,  0.    ,  0.    ,  0.    ],\n",
              "       [-0.    ,  0.5016, -0.2603,  0.0189],\n",
              "       [ 0.    , -0.2603,  0.4882, -0.0147],\n",
              "       [ 0.    ,  0.0189, -0.0147,  0.0105]])"
            ]
          },
          "metadata": {},
          "execution_count": 13
        }
      ]
    },
    {
      "cell_type": "markdown",
      "metadata": {
        "id": "xDq8UjIrdwW6"
      },
      "source": [
        "## Two-factor  Analysis"
      ]
    },
    {
      "cell_type": "code",
      "metadata": {
        "id": "58RXHB36dwW6",
        "colab": {
          "base_uri": "https://localhost:8080/",
          "height": 793
        },
        "outputId": "ddb84dc4-69ee-4430-a59f-62a83673c137"
      },
      "source": [
        "flower_data = pd.read_excel('/content/lect06-ancova.xlsx', sheet_name='Flower')\n",
        "flower_data"
      ],
      "execution_count": null,
      "outputs": [
        {
          "output_type": "execute_result",
          "data": {
            "text/html": [
              "<div>\n",
              "<style scoped>\n",
              "    .dataframe tbody tr th:only-of-type {\n",
              "        vertical-align: middle;\n",
              "    }\n",
              "\n",
              "    .dataframe tbody tr th {\n",
              "        vertical-align: top;\n",
              "    }\n",
              "\n",
              "    .dataframe thead th {\n",
              "        text-align: right;\n",
              "    }\n",
              "</style>\n",
              "<table border=\"1\" class=\"dataframe\">\n",
              "  <thead>\n",
              "    <tr style=\"text-align: right;\">\n",
              "      <th></th>\n",
              "      <th>Sales</th>\n",
              "      <th>Plot</th>\n",
              "      <th>Variety</th>\n",
              "      <th>Moisture</th>\n",
              "      <th>Rep</th>\n",
              "    </tr>\n",
              "  </thead>\n",
              "  <tbody>\n",
              "    <tr>\n",
              "      <th>0</th>\n",
              "      <td>98</td>\n",
              "      <td>15</td>\n",
              "      <td>1</td>\n",
              "      <td>1</td>\n",
              "      <td>1</td>\n",
              "    </tr>\n",
              "    <tr>\n",
              "      <th>1</th>\n",
              "      <td>60</td>\n",
              "      <td>4</td>\n",
              "      <td>1</td>\n",
              "      <td>1</td>\n",
              "      <td>2</td>\n",
              "    </tr>\n",
              "    <tr>\n",
              "      <th>2</th>\n",
              "      <td>77</td>\n",
              "      <td>7</td>\n",
              "      <td>1</td>\n",
              "      <td>1</td>\n",
              "      <td>3</td>\n",
              "    </tr>\n",
              "    <tr>\n",
              "      <th>3</th>\n",
              "      <td>80</td>\n",
              "      <td>9</td>\n",
              "      <td>1</td>\n",
              "      <td>1</td>\n",
              "      <td>4</td>\n",
              "    </tr>\n",
              "    <tr>\n",
              "      <th>4</th>\n",
              "      <td>95</td>\n",
              "      <td>14</td>\n",
              "      <td>1</td>\n",
              "      <td>1</td>\n",
              "      <td>5</td>\n",
              "    </tr>\n",
              "    <tr>\n",
              "      <th>5</th>\n",
              "      <td>64</td>\n",
              "      <td>5</td>\n",
              "      <td>1</td>\n",
              "      <td>1</td>\n",
              "      <td>6</td>\n",
              "    </tr>\n",
              "    <tr>\n",
              "      <th>6</th>\n",
              "      <td>55</td>\n",
              "      <td>4</td>\n",
              "      <td>2</td>\n",
              "      <td>1</td>\n",
              "      <td>1</td>\n",
              "    </tr>\n",
              "    <tr>\n",
              "      <th>7</th>\n",
              "      <td>60</td>\n",
              "      <td>5</td>\n",
              "      <td>2</td>\n",
              "      <td>1</td>\n",
              "      <td>2</td>\n",
              "    </tr>\n",
              "    <tr>\n",
              "      <th>8</th>\n",
              "      <td>75</td>\n",
              "      <td>8</td>\n",
              "      <td>2</td>\n",
              "      <td>1</td>\n",
              "      <td>3</td>\n",
              "    </tr>\n",
              "    <tr>\n",
              "      <th>9</th>\n",
              "      <td>65</td>\n",
              "      <td>7</td>\n",
              "      <td>2</td>\n",
              "      <td>1</td>\n",
              "      <td>4</td>\n",
              "    </tr>\n",
              "    <tr>\n",
              "      <th>10</th>\n",
              "      <td>87</td>\n",
              "      <td>13</td>\n",
              "      <td>2</td>\n",
              "      <td>1</td>\n",
              "      <td>5</td>\n",
              "    </tr>\n",
              "    <tr>\n",
              "      <th>11</th>\n",
              "      <td>78</td>\n",
              "      <td>11</td>\n",
              "      <td>2</td>\n",
              "      <td>1</td>\n",
              "      <td>6</td>\n",
              "    </tr>\n",
              "    <tr>\n",
              "      <th>12</th>\n",
              "      <td>71</td>\n",
              "      <td>10</td>\n",
              "      <td>1</td>\n",
              "      <td>2</td>\n",
              "      <td>1</td>\n",
              "    </tr>\n",
              "    <tr>\n",
              "      <th>13</th>\n",
              "      <td>80</td>\n",
              "      <td>12</td>\n",
              "      <td>1</td>\n",
              "      <td>2</td>\n",
              "      <td>2</td>\n",
              "    </tr>\n",
              "    <tr>\n",
              "      <th>14</th>\n",
              "      <td>86</td>\n",
              "      <td>14</td>\n",
              "      <td>1</td>\n",
              "      <td>2</td>\n",
              "      <td>3</td>\n",
              "    </tr>\n",
              "    <tr>\n",
              "      <th>15</th>\n",
              "      <td>82</td>\n",
              "      <td>13</td>\n",
              "      <td>1</td>\n",
              "      <td>2</td>\n",
              "      <td>4</td>\n",
              "    </tr>\n",
              "    <tr>\n",
              "      <th>16</th>\n",
              "      <td>46</td>\n",
              "      <td>2</td>\n",
              "      <td>1</td>\n",
              "      <td>2</td>\n",
              "      <td>5</td>\n",
              "    </tr>\n",
              "    <tr>\n",
              "      <th>17</th>\n",
              "      <td>55</td>\n",
              "      <td>3</td>\n",
              "      <td>1</td>\n",
              "      <td>2</td>\n",
              "      <td>6</td>\n",
              "    </tr>\n",
              "    <tr>\n",
              "      <th>18</th>\n",
              "      <td>76</td>\n",
              "      <td>11</td>\n",
              "      <td>2</td>\n",
              "      <td>2</td>\n",
              "      <td>1</td>\n",
              "    </tr>\n",
              "    <tr>\n",
              "      <th>19</th>\n",
              "      <td>68</td>\n",
              "      <td>10</td>\n",
              "      <td>2</td>\n",
              "      <td>2</td>\n",
              "      <td>2</td>\n",
              "    </tr>\n",
              "    <tr>\n",
              "      <th>20</th>\n",
              "      <td>43</td>\n",
              "      <td>2</td>\n",
              "      <td>2</td>\n",
              "      <td>2</td>\n",
              "      <td>3</td>\n",
              "    </tr>\n",
              "    <tr>\n",
              "      <th>21</th>\n",
              "      <td>47</td>\n",
              "      <td>3</td>\n",
              "      <td>2</td>\n",
              "      <td>2</td>\n",
              "      <td>4</td>\n",
              "    </tr>\n",
              "    <tr>\n",
              "      <th>22</th>\n",
              "      <td>62</td>\n",
              "      <td>7</td>\n",
              "      <td>2</td>\n",
              "      <td>2</td>\n",
              "      <td>5</td>\n",
              "    </tr>\n",
              "    <tr>\n",
              "      <th>23</th>\n",
              "      <td>70</td>\n",
              "      <td>9</td>\n",
              "      <td>2</td>\n",
              "      <td>2</td>\n",
              "      <td>6</td>\n",
              "    </tr>\n",
              "  </tbody>\n",
              "</table>\n",
              "</div>"
            ],
            "text/plain": [
              "    Sales  Plot  Variety  Moisture  Rep\n",
              "0      98    15        1         1    1\n",
              "1      60     4        1         1    2\n",
              "2      77     7        1         1    3\n",
              "3      80     9        1         1    4\n",
              "4      95    14        1         1    5\n",
              "5      64     5        1         1    6\n",
              "6      55     4        2         1    1\n",
              "7      60     5        2         1    2\n",
              "8      75     8        2         1    3\n",
              "9      65     7        2         1    4\n",
              "10     87    13        2         1    5\n",
              "11     78    11        2         1    6\n",
              "12     71    10        1         2    1\n",
              "13     80    12        1         2    2\n",
              "14     86    14        1         2    3\n",
              "15     82    13        1         2    4\n",
              "16     46     2        1         2    5\n",
              "17     55     3        1         2    6\n",
              "18     76    11        2         2    1\n",
              "19     68    10        2         2    2\n",
              "20     43     2        2         2    3\n",
              "21     47     3        2         2    4\n",
              "22     62     7        2         2    5\n",
              "23     70     9        2         2    6"
            ]
          },
          "metadata": {},
          "execution_count": 14
        }
      ]
    },
    {
      "cell_type": "code",
      "metadata": {
        "id": "-r0egQ7SdwW7",
        "colab": {
          "base_uri": "https://localhost:8080/",
          "height": 793
        },
        "outputId": "e286a645-6da9-4fa5-f522-2d37bf6e44af"
      },
      "source": [
        "def codingfunc(x):\n",
        "    if x == 1:\n",
        "        return 1\n",
        "    else:\n",
        "        return -1\n",
        "      \n",
        "flower_data['I1'] = flower_data['Variety'].apply(codingfunc)\n",
        "flower_data['I2'] = flower_data['Moisture'].apply(codingfunc)\n",
        "flower_data['I1I2'] = flower_data['I1']*flower_data['I2'] \n",
        "flower_data.Plot -= flower_data.Plot.mean()\n",
        "flower_data"
      ],
      "execution_count": null,
      "outputs": [
        {
          "output_type": "execute_result",
          "data": {
            "text/html": [
              "<div>\n",
              "<style scoped>\n",
              "    .dataframe tbody tr th:only-of-type {\n",
              "        vertical-align: middle;\n",
              "    }\n",
              "\n",
              "    .dataframe tbody tr th {\n",
              "        vertical-align: top;\n",
              "    }\n",
              "\n",
              "    .dataframe thead th {\n",
              "        text-align: right;\n",
              "    }\n",
              "</style>\n",
              "<table border=\"1\" class=\"dataframe\">\n",
              "  <thead>\n",
              "    <tr style=\"text-align: right;\">\n",
              "      <th></th>\n",
              "      <th>Sales</th>\n",
              "      <th>Plot</th>\n",
              "      <th>Variety</th>\n",
              "      <th>Moisture</th>\n",
              "      <th>Rep</th>\n",
              "      <th>I1</th>\n",
              "      <th>I2</th>\n",
              "      <th>I1I2</th>\n",
              "    </tr>\n",
              "  </thead>\n",
              "  <tbody>\n",
              "    <tr>\n",
              "      <th>0</th>\n",
              "      <td>98</td>\n",
              "      <td>6.75</td>\n",
              "      <td>1</td>\n",
              "      <td>1</td>\n",
              "      <td>1</td>\n",
              "      <td>1</td>\n",
              "      <td>1</td>\n",
              "      <td>1</td>\n",
              "    </tr>\n",
              "    <tr>\n",
              "      <th>1</th>\n",
              "      <td>60</td>\n",
              "      <td>-4.25</td>\n",
              "      <td>1</td>\n",
              "      <td>1</td>\n",
              "      <td>2</td>\n",
              "      <td>1</td>\n",
              "      <td>1</td>\n",
              "      <td>1</td>\n",
              "    </tr>\n",
              "    <tr>\n",
              "      <th>2</th>\n",
              "      <td>77</td>\n",
              "      <td>-1.25</td>\n",
              "      <td>1</td>\n",
              "      <td>1</td>\n",
              "      <td>3</td>\n",
              "      <td>1</td>\n",
              "      <td>1</td>\n",
              "      <td>1</td>\n",
              "    </tr>\n",
              "    <tr>\n",
              "      <th>3</th>\n",
              "      <td>80</td>\n",
              "      <td>0.75</td>\n",
              "      <td>1</td>\n",
              "      <td>1</td>\n",
              "      <td>4</td>\n",
              "      <td>1</td>\n",
              "      <td>1</td>\n",
              "      <td>1</td>\n",
              "    </tr>\n",
              "    <tr>\n",
              "      <th>4</th>\n",
              "      <td>95</td>\n",
              "      <td>5.75</td>\n",
              "      <td>1</td>\n",
              "      <td>1</td>\n",
              "      <td>5</td>\n",
              "      <td>1</td>\n",
              "      <td>1</td>\n",
              "      <td>1</td>\n",
              "    </tr>\n",
              "    <tr>\n",
              "      <th>5</th>\n",
              "      <td>64</td>\n",
              "      <td>-3.25</td>\n",
              "      <td>1</td>\n",
              "      <td>1</td>\n",
              "      <td>6</td>\n",
              "      <td>1</td>\n",
              "      <td>1</td>\n",
              "      <td>1</td>\n",
              "    </tr>\n",
              "    <tr>\n",
              "      <th>6</th>\n",
              "      <td>55</td>\n",
              "      <td>-4.25</td>\n",
              "      <td>2</td>\n",
              "      <td>1</td>\n",
              "      <td>1</td>\n",
              "      <td>-1</td>\n",
              "      <td>1</td>\n",
              "      <td>-1</td>\n",
              "    </tr>\n",
              "    <tr>\n",
              "      <th>7</th>\n",
              "      <td>60</td>\n",
              "      <td>-3.25</td>\n",
              "      <td>2</td>\n",
              "      <td>1</td>\n",
              "      <td>2</td>\n",
              "      <td>-1</td>\n",
              "      <td>1</td>\n",
              "      <td>-1</td>\n",
              "    </tr>\n",
              "    <tr>\n",
              "      <th>8</th>\n",
              "      <td>75</td>\n",
              "      <td>-0.25</td>\n",
              "      <td>2</td>\n",
              "      <td>1</td>\n",
              "      <td>3</td>\n",
              "      <td>-1</td>\n",
              "      <td>1</td>\n",
              "      <td>-1</td>\n",
              "    </tr>\n",
              "    <tr>\n",
              "      <th>9</th>\n",
              "      <td>65</td>\n",
              "      <td>-1.25</td>\n",
              "      <td>2</td>\n",
              "      <td>1</td>\n",
              "      <td>4</td>\n",
              "      <td>-1</td>\n",
              "      <td>1</td>\n",
              "      <td>-1</td>\n",
              "    </tr>\n",
              "    <tr>\n",
              "      <th>10</th>\n",
              "      <td>87</td>\n",
              "      <td>4.75</td>\n",
              "      <td>2</td>\n",
              "      <td>1</td>\n",
              "      <td>5</td>\n",
              "      <td>-1</td>\n",
              "      <td>1</td>\n",
              "      <td>-1</td>\n",
              "    </tr>\n",
              "    <tr>\n",
              "      <th>11</th>\n",
              "      <td>78</td>\n",
              "      <td>2.75</td>\n",
              "      <td>2</td>\n",
              "      <td>1</td>\n",
              "      <td>6</td>\n",
              "      <td>-1</td>\n",
              "      <td>1</td>\n",
              "      <td>-1</td>\n",
              "    </tr>\n",
              "    <tr>\n",
              "      <th>12</th>\n",
              "      <td>71</td>\n",
              "      <td>1.75</td>\n",
              "      <td>1</td>\n",
              "      <td>2</td>\n",
              "      <td>1</td>\n",
              "      <td>1</td>\n",
              "      <td>-1</td>\n",
              "      <td>-1</td>\n",
              "    </tr>\n",
              "    <tr>\n",
              "      <th>13</th>\n",
              "      <td>80</td>\n",
              "      <td>3.75</td>\n",
              "      <td>1</td>\n",
              "      <td>2</td>\n",
              "      <td>2</td>\n",
              "      <td>1</td>\n",
              "      <td>-1</td>\n",
              "      <td>-1</td>\n",
              "    </tr>\n",
              "    <tr>\n",
              "      <th>14</th>\n",
              "      <td>86</td>\n",
              "      <td>5.75</td>\n",
              "      <td>1</td>\n",
              "      <td>2</td>\n",
              "      <td>3</td>\n",
              "      <td>1</td>\n",
              "      <td>-1</td>\n",
              "      <td>-1</td>\n",
              "    </tr>\n",
              "    <tr>\n",
              "      <th>15</th>\n",
              "      <td>82</td>\n",
              "      <td>4.75</td>\n",
              "      <td>1</td>\n",
              "      <td>2</td>\n",
              "      <td>4</td>\n",
              "      <td>1</td>\n",
              "      <td>-1</td>\n",
              "      <td>-1</td>\n",
              "    </tr>\n",
              "    <tr>\n",
              "      <th>16</th>\n",
              "      <td>46</td>\n",
              "      <td>-6.25</td>\n",
              "      <td>1</td>\n",
              "      <td>2</td>\n",
              "      <td>5</td>\n",
              "      <td>1</td>\n",
              "      <td>-1</td>\n",
              "      <td>-1</td>\n",
              "    </tr>\n",
              "    <tr>\n",
              "      <th>17</th>\n",
              "      <td>55</td>\n",
              "      <td>-5.25</td>\n",
              "      <td>1</td>\n",
              "      <td>2</td>\n",
              "      <td>6</td>\n",
              "      <td>1</td>\n",
              "      <td>-1</td>\n",
              "      <td>-1</td>\n",
              "    </tr>\n",
              "    <tr>\n",
              "      <th>18</th>\n",
              "      <td>76</td>\n",
              "      <td>2.75</td>\n",
              "      <td>2</td>\n",
              "      <td>2</td>\n",
              "      <td>1</td>\n",
              "      <td>-1</td>\n",
              "      <td>-1</td>\n",
              "      <td>1</td>\n",
              "    </tr>\n",
              "    <tr>\n",
              "      <th>19</th>\n",
              "      <td>68</td>\n",
              "      <td>1.75</td>\n",
              "      <td>2</td>\n",
              "      <td>2</td>\n",
              "      <td>2</td>\n",
              "      <td>-1</td>\n",
              "      <td>-1</td>\n",
              "      <td>1</td>\n",
              "    </tr>\n",
              "    <tr>\n",
              "      <th>20</th>\n",
              "      <td>43</td>\n",
              "      <td>-6.25</td>\n",
              "      <td>2</td>\n",
              "      <td>2</td>\n",
              "      <td>3</td>\n",
              "      <td>-1</td>\n",
              "      <td>-1</td>\n",
              "      <td>1</td>\n",
              "    </tr>\n",
              "    <tr>\n",
              "      <th>21</th>\n",
              "      <td>47</td>\n",
              "      <td>-5.25</td>\n",
              "      <td>2</td>\n",
              "      <td>2</td>\n",
              "      <td>4</td>\n",
              "      <td>-1</td>\n",
              "      <td>-1</td>\n",
              "      <td>1</td>\n",
              "    </tr>\n",
              "    <tr>\n",
              "      <th>22</th>\n",
              "      <td>62</td>\n",
              "      <td>-1.25</td>\n",
              "      <td>2</td>\n",
              "      <td>2</td>\n",
              "      <td>5</td>\n",
              "      <td>-1</td>\n",
              "      <td>-1</td>\n",
              "      <td>1</td>\n",
              "    </tr>\n",
              "    <tr>\n",
              "      <th>23</th>\n",
              "      <td>70</td>\n",
              "      <td>0.75</td>\n",
              "      <td>2</td>\n",
              "      <td>2</td>\n",
              "      <td>6</td>\n",
              "      <td>-1</td>\n",
              "      <td>-1</td>\n",
              "      <td>1</td>\n",
              "    </tr>\n",
              "  </tbody>\n",
              "</table>\n",
              "</div>"
            ],
            "text/plain": [
              "    Sales  Plot  Variety  Moisture  Rep  I1  I2  I1I2\n",
              "0      98  6.75        1         1    1   1   1     1\n",
              "1      60 -4.25        1         1    2   1   1     1\n",
              "2      77 -1.25        1         1    3   1   1     1\n",
              "3      80  0.75        1         1    4   1   1     1\n",
              "4      95  5.75        1         1    5   1   1     1\n",
              "5      64 -3.25        1         1    6   1   1     1\n",
              "6      55 -4.25        2         1    1  -1   1    -1\n",
              "7      60 -3.25        2         1    2  -1   1    -1\n",
              "8      75 -0.25        2         1    3  -1   1    -1\n",
              "9      65 -1.25        2         1    4  -1   1    -1\n",
              "10     87  4.75        2         1    5  -1   1    -1\n",
              "11     78  2.75        2         1    6  -1   1    -1\n",
              "12     71  1.75        1         2    1   1  -1    -1\n",
              "13     80  3.75        1         2    2   1  -1    -1\n",
              "14     86  5.75        1         2    3   1  -1    -1\n",
              "15     82  4.75        1         2    4   1  -1    -1\n",
              "16     46 -6.25        1         2    5   1  -1    -1\n",
              "17     55 -5.25        1         2    6   1  -1    -1\n",
              "18     76  2.75        2         2    1  -1  -1     1\n",
              "19     68  1.75        2         2    2  -1  -1     1\n",
              "20     43 -6.25        2         2    3  -1  -1     1\n",
              "21     47 -5.25        2         2    4  -1  -1     1\n",
              "22     62 -1.25        2         2    5  -1  -1     1\n",
              "23     70  0.75        2         2    6  -1  -1     1"
            ]
          },
          "metadata": {},
          "execution_count": 15
        }
      ]
    },
    {
      "cell_type": "markdown",
      "metadata": {
        "id": "mMHKp96NdwW7"
      },
      "source": [
        "### Model fitting"
      ]
    },
    {
      "cell_type": "code",
      "metadata": {
        "id": "j5_V58vHdwW8",
        "colab": {
          "base_uri": "https://localhost:8080/",
          "height": 380
        },
        "outputId": "13d35394-f34c-4f65-d3a7-b328cf1547e0"
      },
      "source": [
        "from statsmodels.formula.api import ols\n",
        "\n",
        "formula = 'Sales ~ I1 + I2 + I1I2 + Plot'\n",
        "flower_lm = ols(formula, data=flower_data).fit()\n",
        "flower_lm.summary2()"
      ],
      "execution_count": null,
      "outputs": [
        {
          "output_type": "execute_result",
          "data": {
            "text/html": [
              "<table class=\"simpletable\">\n",
              "<tr>\n",
              "        <td>Model:</td>               <td>OLS</td>         <td>Adj. R-squared:</td>     <td>0.972</td> \n",
              "</tr>\n",
              "<tr>\n",
              "  <td>Dependent Variable:</td>       <td>Sales</td>             <td>AIC:</td>         <td>116.6316</td>\n",
              "</tr>\n",
              "<tr>\n",
              "         <td>Date:</td>        <td>2021-10-07 02:01</td>        <td>BIC:</td>         <td>122.5218</td>\n",
              "</tr>\n",
              "<tr>\n",
              "   <td>No. Observations:</td>         <td>24</td>          <td>Log-Likelihood:</td>    <td>-53.316</td>\n",
              "</tr>\n",
              "<tr>\n",
              "       <td>Df Model:</td>              <td>4</td>           <td>F-statistic:</td>       <td>197.4</td> \n",
              "</tr>\n",
              "<tr>\n",
              "     <td>Df Residuals:</td>           <td>19</td>        <td>Prob (F-statistic):</td> <td>3.43e-15</td>\n",
              "</tr>\n",
              "<tr>\n",
              "      <td>R-squared:</td>            <td>0.977</td>            <td>Scale:</td>         <td>6.2885</td> \n",
              "</tr>\n",
              "</table>\n",
              "<table class=\"simpletable\">\n",
              "<tr>\n",
              "      <td></td>       <th>Coef.</th>  <th>Std.Err.</th>     <th>t</th>     <th>P>|t|</th> <th>[0.025</th>  <th>0.975]</th> \n",
              "</tr>\n",
              "<tr>\n",
              "  <th>Intercept</th> <td>70.0000</td>  <td>0.5119</td>  <td>136.7511</td> <td>0.0000</td> <td>68.9286</td> <td>71.0714</td>\n",
              "</tr>\n",
              "<tr>\n",
              "  <th>I1</th>        <td>2.0423</td>   <td>0.5211</td>   <td>3.9194</td>  <td>0.0009</td> <td>0.9517</td>  <td>3.1330</td> \n",
              "</tr>\n",
              "<tr>\n",
              "  <th>I2</th>        <td>3.6808</td>   <td>0.5129</td>   <td>7.1763</td>  <td>0.0000</td> <td>2.6072</td>  <td>4.7543</td> \n",
              "</tr>\n",
              "<tr>\n",
              "  <th>I1I2</th>      <td>0.8192</td>   <td>0.5129</td>   <td>1.5972</td>  <td>0.1267</td> <td>-0.2543</td> <td>1.8928</td> \n",
              "</tr>\n",
              "<tr>\n",
              "  <th>Plot</th>      <td>3.2769</td>   <td>0.1300</td>   <td>25.2034</td> <td>0.0000</td> <td>3.0048</td>  <td>3.5490</td> \n",
              "</tr>\n",
              "</table>\n",
              "<table class=\"simpletable\">\n",
              "<tr>\n",
              "     <td>Omnibus:</td>    <td>4.855</td>  <td>Durbin-Watson:</td>   <td>1.974</td>\n",
              "</tr>\n",
              "<tr>\n",
              "  <td>Prob(Omnibus):</td> <td>0.088</td> <td>Jarque-Bera (JB):</td> <td>3.784</td>\n",
              "</tr>\n",
              "<tr>\n",
              "       <td>Skew:</td>     <td>0.973</td>     <td>Prob(JB):</td>     <td>0.151</td>\n",
              "</tr>\n",
              "<tr>\n",
              "     <td>Kurtosis:</td>   <td>2.979</td>  <td>Condition No.:</td>     <td>4</td>  \n",
              "</tr>\n",
              "</table>"
            ],
            "text/plain": [
              "<class 'statsmodels.iolib.summary2.Summary'>\n",
              "\"\"\"\n",
              "                 Results: Ordinary least squares\n",
              "=================================================================\n",
              "Model:              OLS              Adj. R-squared:     0.972   \n",
              "Dependent Variable: Sales            AIC:                116.6316\n",
              "Date:               2021-10-07 02:01 BIC:                122.5218\n",
              "No. Observations:   24               Log-Likelihood:     -53.316 \n",
              "Df Model:           4                F-statistic:        197.4   \n",
              "Df Residuals:       19               Prob (F-statistic): 3.43e-15\n",
              "R-squared:          0.977            Scale:              6.2885  \n",
              "------------------------------------------------------------------\n",
              "              Coef.   Std.Err.     t      P>|t|    [0.025   0.975]\n",
              "------------------------------------------------------------------\n",
              "Intercept    70.0000    0.5119  136.7511  0.0000  68.9286  71.0714\n",
              "I1            2.0423    0.5211    3.9194  0.0009   0.9517   3.1330\n",
              "I2            3.6808    0.5129    7.1763  0.0000   2.6072   4.7543\n",
              "I1I2          0.8192    0.5129    1.5972  0.1267  -0.2543   1.8928\n",
              "Plot          3.2769    0.1300   25.2034  0.0000   3.0048   3.5490\n",
              "-----------------------------------------------------------------\n",
              "Omnibus:              4.855        Durbin-Watson:           1.974\n",
              "Prob(Omnibus):        0.088        Jarque-Bera (JB):        3.784\n",
              "Skew:                 0.973        Prob(JB):                0.151\n",
              "Kurtosis:             2.979        Condition No.:           4    \n",
              "=================================================================\n",
              "\n",
              "\"\"\""
            ]
          },
          "metadata": {},
          "execution_count": 16
        }
      ]
    },
    {
      "cell_type": "code",
      "metadata": {
        "id": "qp2SQnnWdwW8",
        "colab": {
          "base_uri": "https://localhost:8080/",
          "height": 359
        },
        "outputId": "222fda07-961b-4e50-d830-530c92004ec9"
      },
      "source": [
        "formula = 'Sales ~ I1 + I2 + Plot'\n",
        "flower_lm = ols(formula, data=flower_data).fit()\n",
        "flower_lm.summary2()"
      ],
      "execution_count": null,
      "outputs": [
        {
          "output_type": "execute_result",
          "data": {
            "text/html": [
              "<table class=\"simpletable\">\n",
              "<tr>\n",
              "        <td>Model:</td>               <td>OLS</td>         <td>Adj. R-squared:</td>     <td>0.969</td> \n",
              "</tr>\n",
              "<tr>\n",
              "  <td>Dependent Variable:</td>       <td>Sales</td>             <td>AIC:</td>         <td>117.6552</td>\n",
              "</tr>\n",
              "<tr>\n",
              "         <td>Date:</td>        <td>2021-10-07 02:01</td>        <td>BIC:</td>         <td>122.3674</td>\n",
              "</tr>\n",
              "<tr>\n",
              "   <td>No. Observations:</td>         <td>24</td>          <td>Log-Likelihood:</td>    <td>-54.828</td>\n",
              "</tr>\n",
              "<tr>\n",
              "       <td>Df Model:</td>              <td>3</td>           <td>F-statistic:</td>       <td>243.5</td> \n",
              "</tr>\n",
              "<tr>\n",
              "     <td>Df Residuals:</td>           <td>20</td>        <td>Prob (F-statistic):</td> <td>6.60e-16</td>\n",
              "</tr>\n",
              "<tr>\n",
              "      <td>R-squared:</td>            <td>0.973</td>            <td>Scale:</td>         <td>6.7762</td> \n",
              "</tr>\n",
              "</table>\n",
              "<table class=\"simpletable\">\n",
              "<tr>\n",
              "      <td></td>       <th>Coef.</th>  <th>Std.Err.</th>     <th>t</th>     <th>P>|t|</th> <th>[0.025</th>  <th>0.975]</th> \n",
              "</tr>\n",
              "<tr>\n",
              "  <th>Intercept</th> <td>70.0000</td>  <td>0.5314</td>  <td>131.7381</td> <td>0.0000</td> <td>68.8916</td> <td>71.1084</td>\n",
              "</tr>\n",
              "<tr>\n",
              "  <th>I1</th>        <td>2.0522</td>   <td>0.5409</td>   <td>3.7942</td>  <td>0.0011</td> <td>0.9240</td>  <td>3.1805</td> \n",
              "</tr>\n",
              "<tr>\n",
              "  <th>I2</th>        <td>3.6841</td>   <td>0.5324</td>   <td>6.9194</td>  <td>0.0000</td> <td>2.5735</td>  <td>4.7947</td> \n",
              "</tr>\n",
              "<tr>\n",
              "  <th>Plot</th>      <td>3.2637</td>   <td>0.1347</td>   <td>24.2307</td> <td>0.0000</td> <td>2.9828</td>  <td>3.5447</td> \n",
              "</tr>\n",
              "</table>\n",
              "<table class=\"simpletable\">\n",
              "<tr>\n",
              "     <td>Omnibus:</td>    <td>2.838</td>  <td>Durbin-Watson:</td>   <td>1.731</td>\n",
              "</tr>\n",
              "<tr>\n",
              "  <td>Prob(Omnibus):</td> <td>0.242</td> <td>Jarque-Bera (JB):</td> <td>2.435</td>\n",
              "</tr>\n",
              "<tr>\n",
              "       <td>Skew:</td>     <td>0.715</td>     <td>Prob(JB):</td>     <td>0.296</td>\n",
              "</tr>\n",
              "<tr>\n",
              "     <td>Kurtosis:</td>   <td>2.373</td>  <td>Condition No.:</td>     <td>4</td>  \n",
              "</tr>\n",
              "</table>"
            ],
            "text/plain": [
              "<class 'statsmodels.iolib.summary2.Summary'>\n",
              "\"\"\"\n",
              "                 Results: Ordinary least squares\n",
              "=================================================================\n",
              "Model:              OLS              Adj. R-squared:     0.969   \n",
              "Dependent Variable: Sales            AIC:                117.6552\n",
              "Date:               2021-10-07 02:01 BIC:                122.3674\n",
              "No. Observations:   24               Log-Likelihood:     -54.828 \n",
              "Df Model:           3                F-statistic:        243.5   \n",
              "Df Residuals:       20               Prob (F-statistic): 6.60e-16\n",
              "R-squared:          0.973            Scale:              6.7762  \n",
              "------------------------------------------------------------------\n",
              "              Coef.   Std.Err.     t      P>|t|    [0.025   0.975]\n",
              "------------------------------------------------------------------\n",
              "Intercept    70.0000    0.5314  131.7381  0.0000  68.8916  71.1084\n",
              "I1            2.0522    0.5409    3.7942  0.0011   0.9240   3.1805\n",
              "I2            3.6841    0.5324    6.9194  0.0000   2.5735   4.7947\n",
              "Plot          3.2637    0.1347   24.2307  0.0000   2.9828   3.5447\n",
              "-----------------------------------------------------------------\n",
              "Omnibus:              2.838        Durbin-Watson:           1.731\n",
              "Prob(Omnibus):        0.242        Jarque-Bera (JB):        2.435\n",
              "Skew:                 0.715        Prob(JB):                0.296\n",
              "Kurtosis:             2.373        Condition No.:           4    \n",
              "=================================================================\n",
              "\n",
              "\"\"\""
            ]
          },
          "metadata": {},
          "execution_count": 17
        }
      ]
    },
    {
      "cell_type": "markdown",
      "metadata": {
        "id": "4ZWnA7KQdwW8"
      },
      "source": [
        "This example has one coefficient for each factor and the coded variables  \n",
        "are uncorrelated. So the significance of a factor can be determined from \n",
        "that of the coefficient.\n",
        "\n",
        "\n",
        "Significance of factor can be generally determined from partial f-tests.  \n",
        "The reduced models are obtained by removing coefficients related to each  \n",
        "factor at the time."
      ]
    },
    {
      "cell_type": "markdown",
      "metadata": {
        "id": "Wl7OQlq8dwW8"
      },
      "source": [
        "### Covariance matrix of estimators"
      ]
    },
    {
      "cell_type": "code",
      "metadata": {
        "id": "ezgI3zundwW9",
        "colab": {
          "base_uri": "https://localhost:8080/"
        },
        "outputId": "2655c15c-587e-4365-f457-e7e8c57a824a"
      },
      "source": [
        "import statsmodels.api as sm\n",
        "from numpy.linalg import inv\n",
        "\n",
        "Xreg = sm.add_constant(flower_data[['I1', 'I2', 'I1I2', 'Plot']])\n",
        "Covmat = flower_lm.mse_resid*inv(Xreg.T@Xreg)\n",
        "np.set_printoptions(precision=4)\n",
        "print(Covmat)"
      ],
      "execution_count": null,
      "outputs": [
        {
          "output_type": "stream",
          "name": "stdout",
          "text": [
            "[[ 0.2823  0.      0.      0.      0.    ]\n",
            " [ 0.      0.2926  0.0034 -0.0034 -0.0137]\n",
            " [ 0.      0.0034  0.2835 -0.0011 -0.0046]\n",
            " [ 0.     -0.0034 -0.0011  0.2835  0.0046]\n",
            " [ 0.     -0.0137 -0.0046  0.0046  0.0182]]\n"
          ]
        }
      ]
    },
    {
      "cell_type": "code",
      "metadata": {
        "id": "fHcLU5jddwW9"
      },
      "source": [
        ""
      ],
      "execution_count": null,
      "outputs": []
    },
    {
      "cell_type": "code",
      "metadata": {
        "id": "rkv0xk6JdwW9"
      },
      "source": [
        ""
      ],
      "execution_count": null,
      "outputs": []
    },
    {
      "cell_type": "markdown",
      "metadata": {
        "id": "lv2w6ir1y8FE"
      },
      "source": [
        "# lab6"
      ]
    },
    {
      "cell_type": "code",
      "metadata": {
        "colab": {
          "base_uri": "https://localhost:8080/",
          "height": 514
        },
        "id": "0ymA80oyy_UJ",
        "outputId": "1aa86422-c820-4a26-c258-7da365e2f98c"
      },
      "source": [
        "Monofilament_data = pd.read_excel('/content/lect06-ancova.xlsx', sheet_name='Filament')\n",
        "Monofilament_data"
      ],
      "execution_count": null,
      "outputs": [
        {
          "output_type": "execute_result",
          "data": {
            "text/html": [
              "<div>\n",
              "<style scoped>\n",
              "    .dataframe tbody tr th:only-of-type {\n",
              "        vertical-align: middle;\n",
              "    }\n",
              "\n",
              "    .dataframe tbody tr th {\n",
              "        vertical-align: top;\n",
              "    }\n",
              "\n",
              "    .dataframe thead th {\n",
              "        text-align: right;\n",
              "    }\n",
              "</style>\n",
              "<table border=\"1\" class=\"dataframe\">\n",
              "  <thead>\n",
              "    <tr style=\"text-align: right;\">\n",
              "      <th></th>\n",
              "      <th>Strength</th>\n",
              "      <th>Diameter</th>\n",
              "      <th>Machine</th>\n",
              "    </tr>\n",
              "  </thead>\n",
              "  <tbody>\n",
              "    <tr>\n",
              "      <th>0</th>\n",
              "      <td>36</td>\n",
              "      <td>20</td>\n",
              "      <td>M1</td>\n",
              "    </tr>\n",
              "    <tr>\n",
              "      <th>1</th>\n",
              "      <td>41</td>\n",
              "      <td>25</td>\n",
              "      <td>M1</td>\n",
              "    </tr>\n",
              "    <tr>\n",
              "      <th>2</th>\n",
              "      <td>39</td>\n",
              "      <td>24</td>\n",
              "      <td>M1</td>\n",
              "    </tr>\n",
              "    <tr>\n",
              "      <th>3</th>\n",
              "      <td>42</td>\n",
              "      <td>25</td>\n",
              "      <td>M1</td>\n",
              "    </tr>\n",
              "    <tr>\n",
              "      <th>4</th>\n",
              "      <td>49</td>\n",
              "      <td>32</td>\n",
              "      <td>M1</td>\n",
              "    </tr>\n",
              "    <tr>\n",
              "      <th>5</th>\n",
              "      <td>40</td>\n",
              "      <td>22</td>\n",
              "      <td>M2</td>\n",
              "    </tr>\n",
              "    <tr>\n",
              "      <th>6</th>\n",
              "      <td>48</td>\n",
              "      <td>28</td>\n",
              "      <td>M2</td>\n",
              "    </tr>\n",
              "    <tr>\n",
              "      <th>7</th>\n",
              "      <td>39</td>\n",
              "      <td>22</td>\n",
              "      <td>M2</td>\n",
              "    </tr>\n",
              "    <tr>\n",
              "      <th>8</th>\n",
              "      <td>45</td>\n",
              "      <td>30</td>\n",
              "      <td>M2</td>\n",
              "    </tr>\n",
              "    <tr>\n",
              "      <th>9</th>\n",
              "      <td>44</td>\n",
              "      <td>28</td>\n",
              "      <td>M2</td>\n",
              "    </tr>\n",
              "    <tr>\n",
              "      <th>10</th>\n",
              "      <td>35</td>\n",
              "      <td>21</td>\n",
              "      <td>M3</td>\n",
              "    </tr>\n",
              "    <tr>\n",
              "      <th>11</th>\n",
              "      <td>37</td>\n",
              "      <td>23</td>\n",
              "      <td>M3</td>\n",
              "    </tr>\n",
              "    <tr>\n",
              "      <th>12</th>\n",
              "      <td>42</td>\n",
              "      <td>26</td>\n",
              "      <td>M3</td>\n",
              "    </tr>\n",
              "    <tr>\n",
              "      <th>13</th>\n",
              "      <td>34</td>\n",
              "      <td>21</td>\n",
              "      <td>M3</td>\n",
              "    </tr>\n",
              "    <tr>\n",
              "      <th>14</th>\n",
              "      <td>32</td>\n",
              "      <td>15</td>\n",
              "      <td>M3</td>\n",
              "    </tr>\n",
              "  </tbody>\n",
              "</table>\n",
              "</div>"
            ],
            "text/plain": [
              "    Strength  Diameter Machine\n",
              "0         36        20      M1\n",
              "1         41        25      M1\n",
              "2         39        24      M1\n",
              "3         42        25      M1\n",
              "4         49        32      M1\n",
              "5         40        22      M2\n",
              "6         48        28      M2\n",
              "7         39        22      M2\n",
              "8         45        30      M2\n",
              "9         44        28      M2\n",
              "10        35        21      M3\n",
              "11        37        23      M3\n",
              "12        42        26      M3\n",
              "13        34        21      M3\n",
              "14        32        15      M3"
            ]
          },
          "metadata": {},
          "execution_count": 47
        }
      ]
    },
    {
      "cell_type": "code",
      "metadata": {
        "id": "Uw1shGKRzAvx",
        "colab": {
          "base_uri": "https://localhost:8080/",
          "height": 514
        },
        "outputId": "36e03471-bbcd-40a7-afd6-3b2b1628f7ca"
      },
      "source": [
        "def codingfunc(x):\n",
        "    if x == 'M1':\n",
        "        return (1,0)\n",
        "    elif x == 'M2':\n",
        "        return (0,1)\n",
        "    else:\n",
        "        return (-1,-1)\n",
        "\n",
        "Monofilament_data[['I1', 'I2']] = pd.DataFrame(Monofilament_data['Machine'].apply(codingfunc).tolist(), \n",
        "                                           index=Monofilament_data.index)\n",
        "Monofilament_data.Diameter -= Monofilament_data.Diameter.mean()\n",
        "Monofilament_data"
      ],
      "execution_count": null,
      "outputs": [
        {
          "output_type": "execute_result",
          "data": {
            "text/html": [
              "<div>\n",
              "<style scoped>\n",
              "    .dataframe tbody tr th:only-of-type {\n",
              "        vertical-align: middle;\n",
              "    }\n",
              "\n",
              "    .dataframe tbody tr th {\n",
              "        vertical-align: top;\n",
              "    }\n",
              "\n",
              "    .dataframe thead th {\n",
              "        text-align: right;\n",
              "    }\n",
              "</style>\n",
              "<table border=\"1\" class=\"dataframe\">\n",
              "  <thead>\n",
              "    <tr style=\"text-align: right;\">\n",
              "      <th></th>\n",
              "      <th>Strength</th>\n",
              "      <th>Diameter</th>\n",
              "      <th>Machine</th>\n",
              "      <th>I1</th>\n",
              "      <th>I2</th>\n",
              "    </tr>\n",
              "  </thead>\n",
              "  <tbody>\n",
              "    <tr>\n",
              "      <th>0</th>\n",
              "      <td>36</td>\n",
              "      <td>-4.133333</td>\n",
              "      <td>M1</td>\n",
              "      <td>1</td>\n",
              "      <td>0</td>\n",
              "    </tr>\n",
              "    <tr>\n",
              "      <th>1</th>\n",
              "      <td>41</td>\n",
              "      <td>0.866667</td>\n",
              "      <td>M1</td>\n",
              "      <td>1</td>\n",
              "      <td>0</td>\n",
              "    </tr>\n",
              "    <tr>\n",
              "      <th>2</th>\n",
              "      <td>39</td>\n",
              "      <td>-0.133333</td>\n",
              "      <td>M1</td>\n",
              "      <td>1</td>\n",
              "      <td>0</td>\n",
              "    </tr>\n",
              "    <tr>\n",
              "      <th>3</th>\n",
              "      <td>42</td>\n",
              "      <td>0.866667</td>\n",
              "      <td>M1</td>\n",
              "      <td>1</td>\n",
              "      <td>0</td>\n",
              "    </tr>\n",
              "    <tr>\n",
              "      <th>4</th>\n",
              "      <td>49</td>\n",
              "      <td>7.866667</td>\n",
              "      <td>M1</td>\n",
              "      <td>1</td>\n",
              "      <td>0</td>\n",
              "    </tr>\n",
              "    <tr>\n",
              "      <th>5</th>\n",
              "      <td>40</td>\n",
              "      <td>-2.133333</td>\n",
              "      <td>M2</td>\n",
              "      <td>0</td>\n",
              "      <td>1</td>\n",
              "    </tr>\n",
              "    <tr>\n",
              "      <th>6</th>\n",
              "      <td>48</td>\n",
              "      <td>3.866667</td>\n",
              "      <td>M2</td>\n",
              "      <td>0</td>\n",
              "      <td>1</td>\n",
              "    </tr>\n",
              "    <tr>\n",
              "      <th>7</th>\n",
              "      <td>39</td>\n",
              "      <td>-2.133333</td>\n",
              "      <td>M2</td>\n",
              "      <td>0</td>\n",
              "      <td>1</td>\n",
              "    </tr>\n",
              "    <tr>\n",
              "      <th>8</th>\n",
              "      <td>45</td>\n",
              "      <td>5.866667</td>\n",
              "      <td>M2</td>\n",
              "      <td>0</td>\n",
              "      <td>1</td>\n",
              "    </tr>\n",
              "    <tr>\n",
              "      <th>9</th>\n",
              "      <td>44</td>\n",
              "      <td>3.866667</td>\n",
              "      <td>M2</td>\n",
              "      <td>0</td>\n",
              "      <td>1</td>\n",
              "    </tr>\n",
              "    <tr>\n",
              "      <th>10</th>\n",
              "      <td>35</td>\n",
              "      <td>-3.133333</td>\n",
              "      <td>M3</td>\n",
              "      <td>-1</td>\n",
              "      <td>-1</td>\n",
              "    </tr>\n",
              "    <tr>\n",
              "      <th>11</th>\n",
              "      <td>37</td>\n",
              "      <td>-1.133333</td>\n",
              "      <td>M3</td>\n",
              "      <td>-1</td>\n",
              "      <td>-1</td>\n",
              "    </tr>\n",
              "    <tr>\n",
              "      <th>12</th>\n",
              "      <td>42</td>\n",
              "      <td>1.866667</td>\n",
              "      <td>M3</td>\n",
              "      <td>-1</td>\n",
              "      <td>-1</td>\n",
              "    </tr>\n",
              "    <tr>\n",
              "      <th>13</th>\n",
              "      <td>34</td>\n",
              "      <td>-3.133333</td>\n",
              "      <td>M3</td>\n",
              "      <td>-1</td>\n",
              "      <td>-1</td>\n",
              "    </tr>\n",
              "    <tr>\n",
              "      <th>14</th>\n",
              "      <td>32</td>\n",
              "      <td>-9.133333</td>\n",
              "      <td>M3</td>\n",
              "      <td>-1</td>\n",
              "      <td>-1</td>\n",
              "    </tr>\n",
              "  </tbody>\n",
              "</table>\n",
              "</div>"
            ],
            "text/plain": [
              "    Strength  Diameter Machine  I1  I2\n",
              "0         36 -4.133333      M1   1   0\n",
              "1         41  0.866667      M1   1   0\n",
              "2         39 -0.133333      M1   1   0\n",
              "3         42  0.866667      M1   1   0\n",
              "4         49  7.866667      M1   1   0\n",
              "5         40 -2.133333      M2   0   1\n",
              "6         48  3.866667      M2   0   1\n",
              "7         39 -2.133333      M2   0   1\n",
              "8         45  5.866667      M2   0   1\n",
              "9         44  3.866667      M2   0   1\n",
              "10        35 -3.133333      M3  -1  -1\n",
              "11        37 -1.133333      M3  -1  -1\n",
              "12        42  1.866667      M3  -1  -1\n",
              "13        34 -3.133333      M3  -1  -1\n",
              "14        32 -9.133333      M3  -1  -1"
            ]
          },
          "metadata": {},
          "execution_count": 48
        }
      ]
    },
    {
      "cell_type": "code",
      "metadata": {
        "colab": {
          "base_uri": "https://localhost:8080/",
          "height": 111
        },
        "id": "W8tBoJ_k0BpF",
        "outputId": "a41a1202-d94f-4d87-d2a3-df5fe4fdd983"
      },
      "source": [
        "from statsmodels.formula.api import ols\n",
        "from statsmodels.stats.anova import anova_lm\n",
        "\n",
        "\n",
        "formula = 'Strength ~ C(Machine)'\n",
        "\n",
        "\n",
        "Monofilament_lm = ols(formula, data=Monofilament_data).fit()\n",
        "aov_table1 = anova_lm(Monofilament_lm) \n",
        "aov_table1"
      ],
      "execution_count": null,
      "outputs": [
        {
          "output_type": "execute_result",
          "data": {
            "text/html": [
              "<div>\n",
              "<style scoped>\n",
              "    .dataframe tbody tr th:only-of-type {\n",
              "        vertical-align: middle;\n",
              "    }\n",
              "\n",
              "    .dataframe tbody tr th {\n",
              "        vertical-align: top;\n",
              "    }\n",
              "\n",
              "    .dataframe thead th {\n",
              "        text-align: right;\n",
              "    }\n",
              "</style>\n",
              "<table border=\"1\" class=\"dataframe\">\n",
              "  <thead>\n",
              "    <tr style=\"text-align: right;\">\n",
              "      <th></th>\n",
              "      <th>df</th>\n",
              "      <th>sum_sq</th>\n",
              "      <th>mean_sq</th>\n",
              "      <th>F</th>\n",
              "      <th>PR(&gt;F)</th>\n",
              "    </tr>\n",
              "  </thead>\n",
              "  <tbody>\n",
              "    <tr>\n",
              "      <th>C(Machine)</th>\n",
              "      <td>2.0</td>\n",
              "      <td>140.4</td>\n",
              "      <td>70.200000</td>\n",
              "      <td>4.08932</td>\n",
              "      <td>0.044232</td>\n",
              "    </tr>\n",
              "    <tr>\n",
              "      <th>Residual</th>\n",
              "      <td>12.0</td>\n",
              "      <td>206.0</td>\n",
              "      <td>17.166667</td>\n",
              "      <td>NaN</td>\n",
              "      <td>NaN</td>\n",
              "    </tr>\n",
              "  </tbody>\n",
              "</table>\n",
              "</div>"
            ],
            "text/plain": [
              "              df  sum_sq    mean_sq        F    PR(>F)\n",
              "C(Machine)   2.0   140.4  70.200000  4.08932  0.044232\n",
              "Residual    12.0   206.0  17.166667      NaN       NaN"
            ]
          },
          "metadata": {},
          "execution_count": 49
        }
      ]
    },
    {
      "cell_type": "code",
      "metadata": {
        "colab": {
          "base_uri": "https://localhost:8080/",
          "height": 359
        },
        "id": "CxrKQj9G04aB",
        "outputId": "4d5fb104-f84d-497e-84ad-9a70b15b5a79"
      },
      "source": [
        "from statsmodels.formula.api import ols\n",
        "\n",
        "formula1 = 'Strength ~ I1 + I2 + Diameter'\n",
        "Monofilament_lm = ols(formula1, data=Monofilament_data).fit()\n",
        "Monofilament_lm.summary2()"
      ],
      "execution_count": null,
      "outputs": [
        {
          "output_type": "execute_result",
          "data": {
            "text/html": [
              "<table class=\"simpletable\">\n",
              "<tr>\n",
              "        <td>Model:</td>               <td>OLS</td>         <td>Adj. R-squared:</td>     <td>0.897</td> \n",
              "</tr>\n",
              "<tr>\n",
              "  <td>Dependent Variable:</td>     <td>Strength</td>            <td>AIC:</td>          <td>59.9229</td>\n",
              "</tr>\n",
              "<tr>\n",
              "         <td>Date:</td>        <td>2021-10-14 05:30</td>        <td>BIC:</td>          <td>62.7551</td>\n",
              "</tr>\n",
              "<tr>\n",
              "   <td>No. Observations:</td>         <td>15</td>          <td>Log-Likelihood:</td>    <td>-25.961</td>\n",
              "</tr>\n",
              "<tr>\n",
              "       <td>Df Model:</td>              <td>3</td>           <td>F-statistic:</td>       <td>41.72</td> \n",
              "</tr>\n",
              "<tr>\n",
              "     <td>Df Residuals:</td>           <td>11</td>        <td>Prob (F-statistic):</td> <td>2.66e-06</td>\n",
              "</tr>\n",
              "<tr>\n",
              "      <td>R-squared:</td>            <td>0.919</td>            <td>Scale:</td>         <td>2.5442</td> \n",
              "</tr>\n",
              "</table>\n",
              "<table class=\"simpletable\">\n",
              "<tr>\n",
              "      <td></td>       <th>Coef.</th>  <th>Std.Err.</th>    <th>t</th>     <th>P>|t|</th> <th>[0.025</th>  <th>0.975]</th> \n",
              "</tr>\n",
              "<tr>\n",
              "  <th>Intercept</th> <td>40.2000</td>  <td>0.4118</td>  <td>97.6109</td> <td>0.0000</td> <td>39.2935</td> <td>41.1065</td>\n",
              "</tr>\n",
              "<tr>\n",
              "  <th>I1</th>        <td>0.1824</td>   <td>0.5950</td>  <td>0.3066</td>  <td>0.7649</td> <td>-1.1272</td> <td>1.4920</td> \n",
              "</tr>\n",
              "<tr>\n",
              "  <th>I2</th>        <td>1.2192</td>   <td>0.6201</td>  <td>1.9661</td>  <td>0.0750</td> <td>-0.1456</td> <td>2.5841</td> \n",
              "</tr>\n",
              "<tr>\n",
              "  <th>Diameter</th>  <td>0.9540</td>   <td>0.1140</td>  <td>8.3648</td>  <td>0.0000</td> <td>0.7030</td>  <td>1.2050</td> \n",
              "</tr>\n",
              "</table>\n",
              "<table class=\"simpletable\">\n",
              "<tr>\n",
              "     <td>Omnibus:</td>    <td>0.909</td>  <td>Durbin-Watson:</td>   <td>1.931</td>\n",
              "</tr>\n",
              "<tr>\n",
              "  <td>Prob(Omnibus):</td> <td>0.635</td> <td>Jarque-Bera (JB):</td> <td>0.818</td>\n",
              "</tr>\n",
              "<tr>\n",
              "       <td>Skew:</td>     <td>0.463</td>     <td>Prob(JB):</td>     <td>0.664</td>\n",
              "</tr>\n",
              "<tr>\n",
              "     <td>Kurtosis:</td>   <td>2.327</td>  <td>Condition No.:</td>     <td>7</td>  \n",
              "</tr>\n",
              "</table>"
            ],
            "text/plain": [
              "<class 'statsmodels.iolib.summary2.Summary'>\n",
              "\"\"\"\n",
              "                 Results: Ordinary least squares\n",
              "=================================================================\n",
              "Model:              OLS              Adj. R-squared:     0.897   \n",
              "Dependent Variable: Strength         AIC:                59.9229 \n",
              "Date:               2021-10-14 05:30 BIC:                62.7551 \n",
              "No. Observations:   15               Log-Likelihood:     -25.961 \n",
              "Df Model:           3                F-statistic:        41.72   \n",
              "Df Residuals:       11               Prob (F-statistic): 2.66e-06\n",
              "R-squared:          0.919            Scale:              2.5442  \n",
              "------------------------------------------------------------------\n",
              "               Coef.   Std.Err.     t     P>|t|    [0.025   0.975]\n",
              "------------------------------------------------------------------\n",
              "Intercept     40.2000    0.4118  97.6109  0.0000  39.2935  41.1065\n",
              "I1             0.1824    0.5950   0.3066  0.7649  -1.1272   1.4920\n",
              "I2             1.2192    0.6201   1.9661  0.0750  -0.1456   2.5841\n",
              "Diameter       0.9540    0.1140   8.3648  0.0000   0.7030   1.2050\n",
              "-----------------------------------------------------------------\n",
              "Omnibus:              0.909        Durbin-Watson:           1.931\n",
              "Prob(Omnibus):        0.635        Jarque-Bera (JB):        0.818\n",
              "Skew:                 0.463        Prob(JB):                0.664\n",
              "Kurtosis:             2.327        Condition No.:           7    \n",
              "=================================================================\n",
              "\n",
              "\"\"\""
            ]
          },
          "metadata": {},
          "execution_count": 50
        }
      ]
    },
    {
      "cell_type": "code",
      "metadata": {
        "colab": {
          "base_uri": "https://localhost:8080/"
        },
        "id": "8rdh6Tuo1Ci_",
        "outputId": "a593eeee-80d3-4e2d-f00a-25c1bbe1f055"
      },
      "source": [
        "print('MSE (ANCOVA): {:.2f}'.format(Monofilament_lm.mse_resid))"
      ],
      "execution_count": null,
      "outputs": [
        {
          "output_type": "stream",
          "name": "stdout",
          "text": [
            "MSE (ANCOVA): 2.54\n"
          ]
        }
      ]
    },
    {
      "cell_type": "code",
      "metadata": {
        "id": "UiAVeSdV3fEq"
      },
      "source": [
        "def check_linreg_residuals(model):\n",
        "\n",
        "    kws = dict(color='blue', marker='o', markersize=7, alpha=0.5)\n",
        "    sns1_kws = dict(marker='o', s=70, alpha=0.5)\n",
        "    sns2_kws = dict(marker='o', s=7, alpha=0.5)\n",
        "    \n",
        "    x = model.resid\n",
        "    yhat = model.fittedvalues\n",
        "    \n",
        "    fig = plt.figure(figsize=(9, 7))\n",
        "    \n",
        "\n",
        "    ax1 = fig.add_subplot(221)\n",
        "    ax2 = fig.add_subplot(222)\n",
        "    ax3 = fig.add_subplot(223)\n",
        "    ax4 = fig.add_subplot(224)\n",
        "\n",
        "    ax1.scatter(yhat, x, **sns1_kws)\n",
        "    ax1.set_title('Residuals vs. Fitted values')\n",
        "    \n",
        "    n=len(x)\n",
        "    #sns.residplot(np.linspace(1,n,n), x, ax=ax2, scatter_kws=sns1_kws)\n",
        "    #ax2.set_title('Sequence plot')\n",
        "    ax2.scatter(yhat+x, yhat, **sns1_kws)\n",
        "    ax2.set_title('Actual vs. Fitted values')\n",
        "      \n",
        "    # Box plot\n",
        "    ax3.boxplot(x,showmeans=True)\n",
        "    ax3.set_title('Boxplot')\n",
        "\n",
        "    # qq plot\n",
        "    sm.graphics.qqplot(x,line='q', ax=ax4, **kws)\n",
        "    ax4.set_title('Normal Q-Q plot')\n",
        "    plt.tight_layout()\n"
      ],
      "execution_count": null,
      "outputs": []
    },
    {
      "cell_type": "code",
      "metadata": {
        "colab": {
          "base_uri": "https://localhost:8080/",
          "height": 512
        },
        "id": "SQlnGHrL2H0c",
        "outputId": "d759bb44-a033-42f3-d909-3becca1a5ecb"
      },
      "source": [
        "check_linreg_residuals(Monofilament_lm)"
      ],
      "execution_count": null,
      "outputs": [
        {
          "output_type": "display_data",
          "data": {
            "image/png": "[encoded data removed]",
            "text/plain": [
              "<Figure size 648x504 with 4 Axes>"
            ]
          },
          "metadata": {
            "image/png": {
              "width": 639,
              "height": 495
            },
            "needs_background": "light"
          }
        }
      ]
    },
    {
      "cell_type": "code",
      "metadata": {
        "colab": {
          "base_uri": "https://localhost:8080/",
          "height": 317
        },
        "id": "evbNKnWw2Tz5",
        "outputId": "6e0a7c17-3b10-4d80-9a01-7eb61f417381"
      },
      "source": [
        "Monofilament_reduced_lm = ols('Strength ~ Diameter', data=Filament_data).fit()\n",
        "Monofilament_reduced_lm.summary2()"
      ],
      "execution_count": null,
      "outputs": [
        {
          "output_type": "execute_result",
          "data": {
            "text/html": [
              "<table class=\"simpletable\">\n",
              "<tr>\n",
              "        <td>Model:</td>               <td>OLS</td>         <td>Adj. R-squared:</td>     <td>0.872</td> \n",
              "</tr>\n",
              "<tr>\n",
              "  <td>Dependent Variable:</td>     <td>Strength</td>            <td>AIC:</td>          <td>61.7493</td>\n",
              "</tr>\n",
              "<tr>\n",
              "         <td>Date:</td>        <td>2021-10-14 05:31</td>        <td>BIC:</td>          <td>63.1654</td>\n",
              "</tr>\n",
              "<tr>\n",
              "   <td>No. Observations:</td>         <td>15</td>          <td>Log-Likelihood:</td>    <td>-28.875</td>\n",
              "</tr>\n",
              "<tr>\n",
              "       <td>Df Model:</td>              <td>1</td>           <td>F-statistic:</td>       <td>96.12</td> \n",
              "</tr>\n",
              "<tr>\n",
              "     <td>Df Residuals:</td>           <td>13</td>        <td>Prob (F-statistic):</td> <td>2.26e-07</td>\n",
              "</tr>\n",
              "<tr>\n",
              "      <td>R-squared:</td>            <td>0.881</td>            <td>Scale:</td>         <td>3.1746</td> \n",
              "</tr>\n",
              "</table>\n",
              "<table class=\"simpletable\">\n",
              "<tr>\n",
              "      <td></td>       <th>Coef.</th>  <th>Std.Err.</th>    <th>t</th>     <th>P>|t|</th> <th>[0.025</th>  <th>0.975]</th>\n",
              "</tr>\n",
              "<tr>\n",
              "  <th>Intercept</th> <td>-0.0000</td>  <td>0.4600</td>  <td>-0.0000</td> <td>1.0000</td> <td>-0.9939</td> <td>0.9939</td>\n",
              "</tr>\n",
              "<tr>\n",
              "  <th>Diameter</th>  <td>1.0797</td>   <td>0.1101</td>  <td>9.8039</td>  <td>0.0000</td> <td>0.8418</td>  <td>1.3177</td>\n",
              "</tr>\n",
              "</table>\n",
              "<table class=\"simpletable\">\n",
              "<tr>\n",
              "     <td>Omnibus:</td>    <td>0.495</td>  <td>Durbin-Watson:</td>   <td>1.387</td>\n",
              "</tr>\n",
              "<tr>\n",
              "  <td>Prob(Omnibus):</td> <td>0.781</td> <td>Jarque-Bera (JB):</td> <td>0.362</td>\n",
              "</tr>\n",
              "<tr>\n",
              "       <td>Skew:</td>     <td>0.331</td>     <td>Prob(JB):</td>     <td>0.834</td>\n",
              "</tr>\n",
              "<tr>\n",
              "     <td>Kurtosis:</td>   <td>2.623</td>  <td>Condition No.:</td>     <td>4</td>  \n",
              "</tr>\n",
              "</table>"
            ],
            "text/plain": [
              "<class 'statsmodels.iolib.summary2.Summary'>\n",
              "\"\"\"\n",
              "                 Results: Ordinary least squares\n",
              "=================================================================\n",
              "Model:              OLS              Adj. R-squared:     0.872   \n",
              "Dependent Variable: Strength         AIC:                61.7493 \n",
              "Date:               2021-10-14 05:31 BIC:                63.1654 \n",
              "No. Observations:   15               Log-Likelihood:     -28.875 \n",
              "Df Model:           1                F-statistic:        96.12   \n",
              "Df Residuals:       13               Prob (F-statistic): 2.26e-07\n",
              "R-squared:          0.881            Scale:              3.1746  \n",
              "------------------------------------------------------------------\n",
              "                Coef.   Std.Err.     t     P>|t|    [0.025  0.975]\n",
              "------------------------------------------------------------------\n",
              "Intercept      -0.0000    0.4600  -0.0000  1.0000  -0.9939  0.9939\n",
              "Diameter        1.0797    0.1101   9.8039  0.0000   0.8418  1.3177\n",
              "-----------------------------------------------------------------\n",
              "Omnibus:              0.495        Durbin-Watson:           1.387\n",
              "Prob(Omnibus):        0.781        Jarque-Bera (JB):        0.362\n",
              "Skew:                 0.331        Prob(JB):                0.834\n",
              "Kurtosis:             2.623        Condition No.:           4    \n",
              "=================================================================\n",
              "\n",
              "\"\"\""
            ]
          },
          "metadata": {},
          "execution_count": 53
        }
      ]
    },
    {
      "cell_type": "code",
      "metadata": {
        "colab": {
          "base_uri": "https://localhost:8080/"
        },
        "id": "A5kk18Ta2T_9",
        "outputId": "b30d8e18-48bc-4925-b5b8-7ce6c8a7e980"
      },
      "source": [
        "print('SSE_k (reduced model): {:.2f} '.format(Monofilament_reduced_lm.ssr))\n",
        "print('SSE (full model): {:.2f} '.format(Monofilament_lm.ssr))\n",
        "print('MSE (full model): {:.2f} '.format(Monofilament_lm.mse_resid))"
      ],
      "execution_count": null,
      "outputs": [
        {
          "output_type": "stream",
          "name": "stdout",
          "text": [
            "SSE_k (reduced model): 41.27 \n",
            "SSE (full model): 27.99 \n",
            "MSE (full model): 2.54 \n"
          ]
        }
      ]
    },
    {
      "cell_type": "code",
      "metadata": {
        "colab": {
          "base_uri": "https://localhost:8080/"
        },
        "id": "-Hga0Qo42UNT",
        "outputId": "2b3c53de-2d8d-4f05-dcdc-ccc759febc46"
      },
      "source": [
        "from scipy import stats\n",
        "k=2\n",
        "partial1_F0 = ((Monofilament_reduced_lm.ssr-Monofilament_lm.ssr)/k)/Monofilament_lm.mse_resid\n",
        "print('Test statistic: {:.2f}, P-value: {:.4f}'.format(partial1_F0, \n",
        "                                                       stats.f.sf(partial1_F0, k, Monofilament_lm.df_resid)))\n",
        "print('Critical value at 0.05: {:.2f} '.format(stats.f.isf(0.05, k, Monofilament_lm.df_resid)))"
      ],
      "execution_count": null,
      "outputs": [
        {
          "output_type": "stream",
          "name": "stdout",
          "text": [
            "Test statistic: 2.61, P-value: 0.1181\n",
            "Critical value at 0.05: 3.98 \n"
          ]
        }
      ]
    },
    {
      "cell_type": "code",
      "metadata": {
        "id": "3qp20BJn5UzY"
      },
      "source": [
        ""
      ],
      "execution_count": null,
      "outputs": []
    },
    {
      "cell_type": "code",
      "metadata": {
        "id": "ljSPk6Wa5U1w"
      },
      "source": [
        ""
      ],
      "execution_count": null,
      "outputs": []
    },
    {
      "cell_type": "code",
      "metadata": {
        "id": "kBHesOLf5U3y"
      },
      "source": [
        ""
      ],
      "execution_count": null,
      "outputs": []
    },
    {
      "cell_type": "code",
      "metadata": {
        "id": "CyG1sQxK5U6a"
      },
      "source": [
        ""
      ],
      "execution_count": null,
      "outputs": []
    },
    {
      "cell_type": "code",
      "metadata": {
        "id": "1yFgJTwv5U9v"
      },
      "source": [
        ""
      ],
      "execution_count": null,
      "outputs": []
    },
    {
      "cell_type": "code",
      "metadata": {
        "colab": {
          "base_uri": "https://localhost:8080/"
        },
        "id": "88mMex6ZYZVx",
        "outputId": "1be043b7-506b-4297-f7c5-a9caf92a8141"
      },
      "source": [
        "B = stats.f.sf(6.88,2,46)\n",
        "B"
      ],
      "execution_count": null,
      "outputs": [
        {
          "output_type": "execute_result",
          "data": {
            "text/plain": [
              "0.0024321288876503304"
            ]
          },
          "metadata": {},
          "execution_count": 16
        }
      ]
    },
    {
      "cell_type": "code",
      "metadata": {
        "colab": {
          "base_uri": "https://localhost:8080/"
        },
        "id": "uwYx4Oa8ZCnK",
        "outputId": "2134375d-a8fb-410f-a817-745170a7e77f"
      },
      "source": [
        "C = stats.f.sf(1.59,1,46)\n",
        "C"
      ],
      "execution_count": null,
      "outputs": [
        {
          "output_type": "execute_result",
          "data": {
            "text/plain": [
              "0.21368416679079807"
            ]
          },
          "metadata": {},
          "execution_count": 18
        }
      ]
    },
    {
      "cell_type": "code",
      "metadata": {
        "colab": {
          "base_uri": "https://localhost:8080/"
        },
        "id": "jajd2AfXbChX",
        "outputId": "0f6e19ef-09c8-4f5c-c874-4dca94f4f18e"
      },
      "source": [
        "BC = stats.f.sf(2.46,2,46)\n",
        "BC"
      ],
      "execution_count": null,
      "outputs": [
        {
          "output_type": "execute_result",
          "data": {
            "text/plain": [
              "0.09660443038635656"
            ]
          },
          "metadata": {},
          "execution_count": 19
        }
      ]
    },
    {
      "cell_type": "code",
      "metadata": {
        "id": "SH-smeUpbLsS"
      },
      "source": [
        ""
      ],
      "execution_count": null,
      "outputs": []
    }
  ]
}