{
  "nbformat": 4,
  "nbformat_minor": 0,
  "metadata": {
    "colab": {
      "name": "Homework_I_Linear_Regression.ipynb",
      "provenance": [],
      "collapsed_sections": []
    },
    "kernelspec": {
      "name": "python3",
      "display_name": "Python 3"
    },
    "language_info": {
      "name": "python"
    }
  },
  "cells": [
    {
      "cell_type": "markdown",
      "metadata": {
        "id": "h1Zcbpa98QYz"
      },
      "source": [
        "**HW1 linear regression**\n",
        "\n"
      ]
    },
    {
      "cell_type": "code",
      "metadata": {
        "id": "MlIf6o9RYuaC"
      },
      "source": [
        "from IPython.core.interactiveshell import InteractiveShell\n",
        "InteractiveShell.ast_node_interactivity = \"all\"\n",
        "\n",
        "import warnings\n",
        "warnings.filterwarnings('ignore') \n",
        "warnings.simplefilter(action=\"ignore\",category=UserWarning)\n",
        "warnings.simplefilter(action=\"ignore\",category=FutureWarning)"
      ],
      "execution_count": null,
      "outputs": []
    },
    {
      "cell_type": "code",
      "metadata": {
        "id": "GsYCTmykbFHY"
      },
      "source": [
        "import pandas as pd\n",
        "import statsmodels.api as sm \n",
        "from statsmodels.formula.api import ols\n",
        "import numpy as np\n",
        "import seaborn as sns\n",
        "import matplotlib.pyplot as plt"
      ],
      "execution_count": null,
      "outputs": []
    },
    {
      "cell_type": "markdown",
      "metadata": {
        "id": "elDuCGMYjyuU"
      },
      "source": [
        "ข้อ 1 : Tensile Strength"
      ]
    },
    {
      "cell_type": "markdown",
      "metadata": {
        "id": "QLJjTDaGa0tM"
      },
      "source": [
        "ขั้นตอนที่ 1 : การสร้าง DataFrame ข้อมูลสำหรับการเข้าสู่ Model"
      ]
    },
    {
      "cell_type": "code",
      "metadata": {
        "colab": {
          "base_uri": "https://localhost:8080/",
          "height": 359
        },
        "id": "7Zu1spXQZ5CO",
        "outputId": "8ba4c3f7-759a-468c-e940-204827f746b2"
      },
      "source": [
        "SmokeData = {'Strength':[167,171,175,182,184,181,188,193,195,200]\n",
        "             ,'Percent_Hardwood':[10,15,15,20,20,20,25,25,28,30]}\n",
        "Smoke_df = pd.DataFrame(SmokeData)\n",
        "Smoke_df.head(10)"
      ],
      "execution_count": null,
      "outputs": [
        {
          "output_type": "execute_result",
          "data": {
            "text/html": [
              "<div>\n",
              "<style scoped>\n",
              "    .dataframe tbody tr th:only-of-type {\n",
              "        vertical-align: middle;\n",
              "    }\n",
              "\n",
              "    .dataframe tbody tr th {\n",
              "        vertical-align: top;\n",
              "    }\n",
              "\n",
              "    .dataframe thead th {\n",
              "        text-align: right;\n",
              "    }\n",
              "</style>\n",
              "<table border=\"1\" class=\"dataframe\">\n",
              "  <thead>\n",
              "    <tr style=\"text-align: right;\">\n",
              "      <th></th>\n",
              "      <th>Strength</th>\n",
              "      <th>Percent_Hardwood</th>\n",
              "    </tr>\n",
              "  </thead>\n",
              "  <tbody>\n",
              "    <tr>\n",
              "      <th>0</th>\n",
              "      <td>167</td>\n",
              "      <td>10</td>\n",
              "    </tr>\n",
              "    <tr>\n",
              "      <th>1</th>\n",
              "      <td>171</td>\n",
              "      <td>15</td>\n",
              "    </tr>\n",
              "    <tr>\n",
              "      <th>2</th>\n",
              "      <td>175</td>\n",
              "      <td>15</td>\n",
              "    </tr>\n",
              "    <tr>\n",
              "      <th>3</th>\n",
              "      <td>182</td>\n",
              "      <td>20</td>\n",
              "    </tr>\n",
              "    <tr>\n",
              "      <th>4</th>\n",
              "      <td>184</td>\n",
              "      <td>20</td>\n",
              "    </tr>\n",
              "    <tr>\n",
              "      <th>5</th>\n",
              "      <td>181</td>\n",
              "      <td>20</td>\n",
              "    </tr>\n",
              "    <tr>\n",
              "      <th>6</th>\n",
              "      <td>188</td>\n",
              "      <td>25</td>\n",
              "    </tr>\n",
              "    <tr>\n",
              "      <th>7</th>\n",
              "      <td>193</td>\n",
              "      <td>25</td>\n",
              "    </tr>\n",
              "    <tr>\n",
              "      <th>8</th>\n",
              "      <td>195</td>\n",
              "      <td>28</td>\n",
              "    </tr>\n",
              "    <tr>\n",
              "      <th>9</th>\n",
              "      <td>200</td>\n",
              "      <td>30</td>\n",
              "    </tr>\n",
              "  </tbody>\n",
              "</table>\n",
              "</div>"
            ],
            "text/plain": [
              "   Strength  Percent_Hardwood\n",
              "0       167                10\n",
              "1       171                15\n",
              "2       175                15\n",
              "3       182                20\n",
              "4       184                20\n",
              "5       181                20\n",
              "6       188                25\n",
              "7       193                25\n",
              "8       195                28\n",
              "9       200                30"
            ]
          },
          "metadata": {},
          "execution_count": 3
        }
      ]
    },
    {
      "cell_type": "markdown",
      "metadata": {
        "id": "OQj1NABqbKWb"
      },
      "source": [
        "ขั้นตอนที่ 2 : ทำการ Fit model linear regression"
      ]
    },
    {
      "cell_type": "code",
      "metadata": {
        "id": "MkJz4_iRaQnm",
        "colab": {
          "base_uri": "https://localhost:8080/"
        },
        "outputId": "af2c8c9f-e355-4419-bbe2-99a9b86cd148"
      },
      "source": [
        "formula = 'Strength ~ Percent_Hardwood '\n",
        "tensile_lm = ols(formula, data=Smoke_df).fit()\n",
        "tensile_lm"
      ],
      "execution_count": null,
      "outputs": [
        {
          "output_type": "execute_result",
          "data": {
            "text/plain": [
              "<statsmodels.regression.linear_model.RegressionResultsWrapper at 0x7f921741fb10>"
            ]
          },
          "metadata": {},
          "execution_count": 4
        }
      ]
    },
    {
      "cell_type": "code",
      "metadata": {
        "colab": {
          "base_uri": "https://localhost:8080/",
          "height": 280
        },
        "id": "VPMI3KKdcO4U",
        "outputId": "8b973c7b-f02e-4785-d99f-86b722006402"
      },
      "source": [
        "sns.regplot( x=\"Percent_Hardwood\" , y=\"Strength\", data=Smoke_df\n",
        "            , scatter_kws={\"color\": \"red\"}, line_kws={\"color\": \"darkgreen\"}, marker=\"+\");"
      ],
      "execution_count": null,
      "outputs": [
        {
          "output_type": "display_data",
          "data": {
            "image/png": "[encoded data removed]",
            "text/plain": [
              "<Figure size 432x288 with 1 Axes>"
            ]
          },
          "metadata": {
            "needs_background": "light"
          }
        }
      ]
    },
    {
      "cell_type": "code",
      "metadata": {
        "colab": {
          "base_uri": "https://localhost:8080/",
          "height": 317
        },
        "id": "hs5Ip-Bgcm8f",
        "outputId": "b360aca7-d899-4570-d736-0f45b5705379"
      },
      "source": [
        "tensile_lm.summary2()  #Checking and summary significance parameter"
      ],
      "execution_count": null,
      "outputs": [
        {
          "output_type": "execute_result",
          "data": {
            "text/html": [
              "<table class=\"simpletable\">\n",
              "<tr>\n",
              "        <td>Model:</td>               <td>OLS</td>         <td>Adj. R-squared:</td>     <td>0.967</td> \n",
              "</tr>\n",
              "<tr>\n",
              "  <td>Dependent Variable:</td>     <td>Strength</td>            <td>AIC:</td>          <td>43.4973</td>\n",
              "</tr>\n",
              "<tr>\n",
              "         <td>Date:</td>        <td>2021-09-29 05:06</td>        <td>BIC:</td>          <td>44.1025</td>\n",
              "</tr>\n",
              "<tr>\n",
              "   <td>No. Observations:</td>         <td>10</td>          <td>Log-Likelihood:</td>    <td>-19.749</td>\n",
              "</tr>\n",
              "<tr>\n",
              "       <td>Df Model:</td>              <td>1</td>           <td>F-statistic:</td>       <td>261.6</td> \n",
              "</tr>\n",
              "<tr>\n",
              "     <td>Df Residuals:</td>            <td>8</td>        <td>Prob (F-statistic):</td> <td>2.15e-07</td>\n",
              "</tr>\n",
              "<tr>\n",
              "      <td>R-squared:</td>            <td>0.970</td>            <td>Scale:</td>         <td>3.8000</td> \n",
              "</tr>\n",
              "</table>\n",
              "<table class=\"simpletable\">\n",
              "<tr>\n",
              "          <td></td>           <th>Coef.</th>  <th>Std.Err.</th>    <th>t</th>     <th>P>|t|</th>  <th>[0.025</th>   <th>0.975]</th> \n",
              "</tr>\n",
              "<tr>\n",
              "  <th>Intercept</th>        <td>148.9217</td>  <td>2.2310</td>  <td>66.7509</td> <td>0.0000</td> <td>143.7770</td> <td>154.0664</td>\n",
              "</tr>\n",
              "<tr>\n",
              "  <th>Percent_Hardwood</th>  <td>1.6672</td>   <td>0.1031</td>  <td>16.1734</td> <td>0.0000</td>  <td>1.4295</td>   <td>1.9049</td> \n",
              "</tr>\n",
              "</table>\n",
              "<table class=\"simpletable\">\n",
              "<tr>\n",
              "     <td>Omnibus:</td>     <td>1.184</td>  <td>Durbin-Watson:</td>   <td>2.900</td>\n",
              "</tr>\n",
              "<tr>\n",
              "  <td>Prob(Omnibus):</td>  <td>0.553</td> <td>Jarque-Bera (JB):</td> <td>0.810</td>\n",
              "</tr>\n",
              "<tr>\n",
              "       <td>Skew:</td>     <td>-0.393</td>     <td>Prob(JB):</td>     <td>0.667</td>\n",
              "</tr>\n",
              "<tr>\n",
              "     <td>Kurtosis:</td>    <td>1.849</td>  <td>Condition No.:</td>    <td>78</td>  \n",
              "</tr>\n",
              "</table>"
            ],
            "text/plain": [
              "<class 'statsmodels.iolib.summary2.Summary'>\n",
              "\"\"\"\n",
              "                  Results: Ordinary least squares\n",
              "===================================================================\n",
              "Model:                OLS              Adj. R-squared:     0.967   \n",
              "Dependent Variable:   Strength         AIC:                43.4973 \n",
              "Date:                 2021-09-29 05:06 BIC:                44.1025 \n",
              "No. Observations:     10               Log-Likelihood:     -19.749 \n",
              "Df Model:             1                F-statistic:        261.6   \n",
              "Df Residuals:         8                Prob (F-statistic): 2.15e-07\n",
              "R-squared:            0.970            Scale:              3.8000  \n",
              "-------------------------------------------------------------------\n",
              "                  Coef.   Std.Err.    t    P>|t|   [0.025   0.975] \n",
              "-------------------------------------------------------------------\n",
              "Intercept        148.9217   2.2310 66.7509 0.0000 143.7770 154.0664\n",
              "Percent_Hardwood   1.6672   0.1031 16.1734 0.0000   1.4295   1.9049\n",
              "-------------------------------------------------------------------\n",
              "Omnibus:               1.184         Durbin-Watson:           2.900\n",
              "Prob(Omnibus):         0.553         Jarque-Bera (JB):        0.810\n",
              "Skew:                  -0.393        Prob(JB):                0.667\n",
              "Kurtosis:              1.849         Condition No.:           78   \n",
              "===================================================================\n",
              "\n",
              "\"\"\""
            ]
          },
          "metadata": {},
          "execution_count": 7
        }
      ]
    },
    {
      "cell_type": "markdown",
      "metadata": {
        "id": "pyUtuV4TkRcI"
      },
      "source": [
        "ข้อ 2 : CO-SMOKE"
      ]
    },
    {
      "cell_type": "code",
      "metadata": {
        "colab": {
          "base_uri": "https://localhost:8080/"
        },
        "id": "6RA_hUa7nwHB",
        "outputId": "a9a0a0b0-3e63-4bae-bfce-db264f07861a"
      },
      "source": [
        "!gdown --id 1nFFcSW7pNUnmgg88kty9aKYuCIXkafz2"
      ],
      "execution_count": null,
      "outputs": [
        {
          "output_type": "stream",
          "name": "stdout",
          "text": [
            "Downloading...\n",
            "From: https://drive.google.com/uc?id=1nFFcSW7pNUnmgg88kty9aKYuCIXkafz2\n",
            "To: /content/Co-smoke.xlsx\n",
            "\r  0% 0.00/9.47k [00:00<?, ?B/s]\r100% 9.47k/9.47k [00:00<00:00, 7.01MB/s]\n"
          ]
        }
      ]
    },
    {
      "cell_type": "code",
      "metadata": {
        "id": "IpagzjPVkale"
      },
      "source": [
        "import numpy as np\n",
        "import pandas as pd"
      ],
      "execution_count": null,
      "outputs": []
    },
    {
      "cell_type": "code",
      "metadata": {
        "id": "2aAiLiDXnDPo"
      },
      "source": [
        "CoSmoke = pd.read_excel(\"/content/Co-smoke.xlsx\")"
      ],
      "execution_count": null,
      "outputs": []
    },
    {
      "cell_type": "code",
      "metadata": {
        "id": "Ku0TAddsnT3z",
        "colab": {
          "base_uri": "https://localhost:8080/",
          "height": 204
        },
        "outputId": "c5fd7384-28e2-4529-d052-1b68c8ae14c6"
      },
      "source": [
        "CoSmoke.head()"
      ],
      "execution_count": null,
      "outputs": [
        {
          "output_type": "execute_result",
          "data": {
            "text/html": [
              "<div>\n",
              "<style scoped>\n",
              "    .dataframe tbody tr th:only-of-type {\n",
              "        vertical-align: middle;\n",
              "    }\n",
              "\n",
              "    .dataframe tbody tr th {\n",
              "        vertical-align: top;\n",
              "    }\n",
              "\n",
              "    .dataframe thead th {\n",
              "        text-align: right;\n",
              "    }\n",
              "</style>\n",
              "<table border=\"1\" class=\"dataframe\">\n",
              "  <thead>\n",
              "    <tr style=\"text-align: right;\">\n",
              "      <th></th>\n",
              "      <th>TAR</th>\n",
              "      <th>NICOTINE</th>\n",
              "      <th>WEIGHT</th>\n",
              "      <th>CO</th>\n",
              "    </tr>\n",
              "  </thead>\n",
              "  <tbody>\n",
              "    <tr>\n",
              "      <th>0</th>\n",
              "      <td>14.1</td>\n",
              "      <td>0.86</td>\n",
              "      <td>0.9853</td>\n",
              "      <td>13.6</td>\n",
              "    </tr>\n",
              "    <tr>\n",
              "      <th>1</th>\n",
              "      <td>16.0</td>\n",
              "      <td>1.06</td>\n",
              "      <td>1.0938</td>\n",
              "      <td>16.6</td>\n",
              "    </tr>\n",
              "    <tr>\n",
              "      <th>2</th>\n",
              "      <td>29.8</td>\n",
              "      <td>2.03</td>\n",
              "      <td>1.1650</td>\n",
              "      <td>23.5</td>\n",
              "    </tr>\n",
              "    <tr>\n",
              "      <th>3</th>\n",
              "      <td>8.0</td>\n",
              "      <td>0.67</td>\n",
              "      <td>0.9280</td>\n",
              "      <td>10.2</td>\n",
              "    </tr>\n",
              "    <tr>\n",
              "      <th>4</th>\n",
              "      <td>4.1</td>\n",
              "      <td>0.40</td>\n",
              "      <td>0.9462</td>\n",
              "      <td>5.4</td>\n",
              "    </tr>\n",
              "  </tbody>\n",
              "</table>\n",
              "</div>"
            ],
            "text/plain": [
              "    TAR  NICOTINE  WEIGHT    CO\n",
              "0  14.1      0.86  0.9853  13.6\n",
              "1  16.0      1.06  1.0938  16.6\n",
              "2  29.8      2.03  1.1650  23.5\n",
              "3   8.0      0.67  0.9280  10.2\n",
              "4   4.1      0.40  0.9462   5.4"
            ]
          },
          "metadata": {},
          "execution_count": 11
        }
      ]
    },
    {
      "cell_type": "code",
      "metadata": {
        "colab": {
          "base_uri": "https://localhost:8080/",
          "height": 297
        },
        "id": "Z3HHABYhoVRH",
        "outputId": "0146eb0b-46ab-40d2-cf63-eebece282ef2"
      },
      "source": [
        "CoSmoke.describe()"
      ],
      "execution_count": null,
      "outputs": [
        {
          "output_type": "execute_result",
          "data": {
            "text/html": [
              "<div>\n",
              "<style scoped>\n",
              "    .dataframe tbody tr th:only-of-type {\n",
              "        vertical-align: middle;\n",
              "    }\n",
              "\n",
              "    .dataframe tbody tr th {\n",
              "        vertical-align: top;\n",
              "    }\n",
              "\n",
              "    .dataframe thead th {\n",
              "        text-align: right;\n",
              "    }\n",
              "</style>\n",
              "<table border=\"1\" class=\"dataframe\">\n",
              "  <thead>\n",
              "    <tr style=\"text-align: right;\">\n",
              "      <th></th>\n",
              "      <th>TAR</th>\n",
              "      <th>NICOTINE</th>\n",
              "      <th>WEIGHT</th>\n",
              "      <th>CO</th>\n",
              "    </tr>\n",
              "  </thead>\n",
              "  <tbody>\n",
              "    <tr>\n",
              "      <th>count</th>\n",
              "      <td>25.00000</td>\n",
              "      <td>25.000000</td>\n",
              "      <td>25.000000</td>\n",
              "      <td>25.000000</td>\n",
              "    </tr>\n",
              "    <tr>\n",
              "      <th>mean</th>\n",
              "      <td>12.21600</td>\n",
              "      <td>0.876400</td>\n",
              "      <td>0.970284</td>\n",
              "      <td>12.528000</td>\n",
              "    </tr>\n",
              "    <tr>\n",
              "      <th>std</th>\n",
              "      <td>5.66581</td>\n",
              "      <td>0.354058</td>\n",
              "      <td>0.087721</td>\n",
              "      <td>4.739684</td>\n",
              "    </tr>\n",
              "    <tr>\n",
              "      <th>min</th>\n",
              "      <td>1.00000</td>\n",
              "      <td>0.130000</td>\n",
              "      <td>0.785100</td>\n",
              "      <td>1.500000</td>\n",
              "    </tr>\n",
              "    <tr>\n",
              "      <th>25%</th>\n",
              "      <td>8.60000</td>\n",
              "      <td>0.690000</td>\n",
              "      <td>0.922500</td>\n",
              "      <td>10.000000</td>\n",
              "    </tr>\n",
              "    <tr>\n",
              "      <th>50%</th>\n",
              "      <td>12.80000</td>\n",
              "      <td>0.900000</td>\n",
              "      <td>0.957300</td>\n",
              "      <td>13.000000</td>\n",
              "    </tr>\n",
              "    <tr>\n",
              "      <th>75%</th>\n",
              "      <td>15.10000</td>\n",
              "      <td>1.020000</td>\n",
              "      <td>1.007000</td>\n",
              "      <td>15.400000</td>\n",
              "    </tr>\n",
              "    <tr>\n",
              "      <th>max</th>\n",
              "      <td>29.80000</td>\n",
              "      <td>2.030000</td>\n",
              "      <td>1.165000</td>\n",
              "      <td>23.500000</td>\n",
              "    </tr>\n",
              "  </tbody>\n",
              "</table>\n",
              "</div>"
            ],
            "text/plain": [
              "            TAR   NICOTINE     WEIGHT         CO\n",
              "count  25.00000  25.000000  25.000000  25.000000\n",
              "mean   12.21600   0.876400   0.970284  12.528000\n",
              "std     5.66581   0.354058   0.087721   4.739684\n",
              "min     1.00000   0.130000   0.785100   1.500000\n",
              "25%     8.60000   0.690000   0.922500  10.000000\n",
              "50%    12.80000   0.900000   0.957300  13.000000\n",
              "75%    15.10000   1.020000   1.007000  15.400000\n",
              "max    29.80000   2.030000   1.165000  23.500000"
            ]
          },
          "metadata": {},
          "execution_count": 12
        }
      ]
    },
    {
      "cell_type": "code",
      "metadata": {
        "id": "jLlfOGEoow3k"
      },
      "source": [
        "Y = CoSmoke.CO\n",
        "X = CoSmoke.drop('CO', axis=1)"
      ],
      "execution_count": null,
      "outputs": []
    },
    {
      "cell_type": "code",
      "metadata": {
        "id": "qx1YVyyIoXpH"
      },
      "source": [
        "formula = 'CO ~ TAR + NICOTINE + WEIGHT'\n",
        "CoSmoke_lm = ols(formula, data=CoSmoke).fit()"
      ],
      "execution_count": null,
      "outputs": []
    },
    {
      "cell_type": "code",
      "metadata": {
        "colab": {
          "base_uri": "https://localhost:8080/"
        },
        "id": "1Xwt-JE6p3CB",
        "outputId": "8b5e57ff-6d42-4e67-d37b-8e3908c4027e"
      },
      "source": [
        "CoSmoke_lm.params"
      ],
      "execution_count": null,
      "outputs": [
        {
          "output_type": "execute_result",
          "data": {
            "text/plain": [
              "Intercept    3.202190\n",
              "TAR          0.962574\n",
              "NICOTINE    -2.631661\n",
              "WEIGHT      -0.130482\n",
              "dtype: float64"
            ]
          },
          "metadata": {},
          "execution_count": 15
        }
      ]
    },
    {
      "cell_type": "code",
      "metadata": {
        "colab": {
          "base_uri": "https://localhost:8080/",
          "height": 279
        },
        "id": "O0MnTkF4pM1o",
        "outputId": "f0419fae-19be-46ef-a5bf-de3e9d332e54"
      },
      "source": [
        "sns.regplot( x=\"TAR\" , y=\"CO\", data=CoSmoke);"
      ],
      "execution_count": null,
      "outputs": [
        {
          "output_type": "display_data",
          "data": {
            "image/png": "[encoded data removed]",
            "text/plain": [
              "<Figure size 432x288 with 1 Axes>"
            ]
          },
          "metadata": {
            "needs_background": "light"
          }
        }
      ]
    },
    {
      "cell_type": "code",
      "metadata": {
        "colab": {
          "base_uri": "https://localhost:8080/",
          "height": 279
        },
        "id": "gPRK8ateqIMo",
        "outputId": "3aa48ea4-bc52-4075-9f1f-c584344ff216"
      },
      "source": [
        "sns.regplot( x=\"NICOTINE\" , y=\"CO\", data=CoSmoke);"
      ],
      "execution_count": null,
      "outputs": [
        {
          "output_type": "display_data",
          "data": {
            "image/png": "[encoded data removed]",
            "text/plain": [
              "<Figure size 432x288 with 1 Axes>"
            ]
          },
          "metadata": {
            "needs_background": "light"
          }
        }
      ]
    },
    {
      "cell_type": "code",
      "metadata": {
        "colab": {
          "base_uri": "https://localhost:8080/",
          "height": 279
        },
        "id": "x6yzgsitqbRg",
        "outputId": "3ee10c41-6218-4563-9a47-f8d4392c9add"
      },
      "source": [
        "sns.regplot( x=\"WEIGHT\" , y=\"CO\", data=CoSmoke, scatter_kws={\"color\": \"red\"}, line_kws={\"color\": \"darkgreen\"}, marker=\"+\");"
      ],
      "execution_count": null,
      "outputs": [
        {
          "output_type": "display_data",
          "data": {
            "image/png": "[encoded data removed]",
            "text/plain": [
              "<Figure size 432x288 with 1 Axes>"
            ]
          },
          "metadata": {
            "needs_background": "light"
          }
        }
      ]
    },
    {
      "cell_type": "code",
      "metadata": {
        "colab": {
          "base_uri": "https://localhost:8080/"
        },
        "id": "CnfliOnnqvHZ",
        "outputId": "78464f7e-666f-4818-e46a-1322cfcf40bb"
      },
      "source": [
        "print(\"R-squared: {:.3f}\".format(CoSmoke_lm.rsquared))\n",
        "print(\"Adjusted R-squared: {:.3f}\".format(CoSmoke_lm .rsquared_adj))"
      ],
      "execution_count": null,
      "outputs": [
        {
          "output_type": "stream",
          "name": "stdout",
          "text": [
            "R-squared: 0.919\n",
            "Adjusted R-squared: 0.907\n"
          ]
        }
      ]
    },
    {
      "cell_type": "code",
      "metadata": {
        "colab": {
          "base_uri": "https://localhost:8080/",
          "height": 359
        },
        "id": "mnqEhBxlquKN",
        "outputId": "907cefa8-a52e-4900-c2de-c99e10559df3"
      },
      "source": [
        "CoSmoke_lm.summary2()"
      ],
      "execution_count": null,
      "outputs": [
        {
          "output_type": "execute_result",
          "data": {
            "text/html": [
              "<table class=\"simpletable\">\n",
              "<tr>\n",
              "        <td>Model:</td>               <td>OLS</td>         <td>Adj. R-squared:</td>     <td>0.907</td> \n",
              "</tr>\n",
              "<tr>\n",
              "  <td>Dependent Variable:</td>        <td>CO</td>               <td>AIC:</td>          <td>93.0187</td>\n",
              "</tr>\n",
              "<tr>\n",
              "         <td>Date:</td>        <td>2021-09-29 05:08</td>        <td>BIC:</td>          <td>97.8942</td>\n",
              "</tr>\n",
              "<tr>\n",
              "   <td>No. Observations:</td>         <td>25</td>          <td>Log-Likelihood:</td>    <td>-42.509</td>\n",
              "</tr>\n",
              "<tr>\n",
              "       <td>Df Model:</td>              <td>3</td>           <td>F-statistic:</td>       <td>78.98</td> \n",
              "</tr>\n",
              "<tr>\n",
              "     <td>Df Residuals:</td>           <td>21</td>        <td>Prob (F-statistic):</td> <td>1.33e-11</td>\n",
              "</tr>\n",
              "<tr>\n",
              "      <td>R-squared:</td>            <td>0.919</td>            <td>Scale:</td>         <td>2.0901</td> \n",
              "</tr>\n",
              "</table>\n",
              "<table class=\"simpletable\">\n",
              "<tr>\n",
              "      <td></td>       <th>Coef.</th>  <th>Std.Err.</th>    <th>t</th>     <th>P>|t|</th>  <th>[0.025</th>  <th>0.975]</th> \n",
              "</tr>\n",
              "<tr>\n",
              "  <th>Intercept</th> <td>3.2022</td>   <td>3.4618</td>  <td>0.9250</td>  <td>0.3655</td>  <td>-3.9969</td> <td>10.4013</td>\n",
              "</tr>\n",
              "<tr>\n",
              "  <th>TAR</th>       <td>0.9626</td>   <td>0.2422</td>  <td>3.9736</td>  <td>0.0007</td>  <td>0.4588</td>  <td>1.4663</td> \n",
              "</tr>\n",
              "<tr>\n",
              "  <th>NICOTINE</th>  <td>-2.6317</td>  <td>3.9006</td>  <td>-0.6747</td> <td>0.5072</td> <td>-10.7433</td> <td>5.4800</td> \n",
              "</tr>\n",
              "<tr>\n",
              "  <th>WEIGHT</th>    <td>-0.1305</td>  <td>3.8853</td>  <td>-0.0336</td> <td>0.9735</td>  <td>-8.2105</td> <td>7.9495</td> \n",
              "</tr>\n",
              "</table>\n",
              "<table class=\"simpletable\">\n",
              "<tr>\n",
              "     <td>Omnibus:</td>     <td>0.052</td>  <td>Durbin-Watson:</td>   <td>2.860</td>\n",
              "</tr>\n",
              "<tr>\n",
              "  <td>Prob(Omnibus):</td>  <td>0.974</td> <td>Jarque-Bera (JB):</td> <td>0.223</td>\n",
              "</tr>\n",
              "<tr>\n",
              "       <td>Skew:</td>     <td>-0.087</td>     <td>Prob(JB):</td>     <td>0.895</td>\n",
              "</tr>\n",
              "<tr>\n",
              "     <td>Kurtosis:</td>    <td>2.572</td>  <td>Condition No.:</td>    <td>242</td> \n",
              "</tr>\n",
              "</table>"
            ],
            "text/plain": [
              "<class 'statsmodels.iolib.summary2.Summary'>\n",
              "\"\"\"\n",
              "                 Results: Ordinary least squares\n",
              "=================================================================\n",
              "Model:              OLS              Adj. R-squared:     0.907   \n",
              "Dependent Variable: CO               AIC:                93.0187 \n",
              "Date:               2021-09-29 05:08 BIC:                97.8942 \n",
              "No. Observations:   25               Log-Likelihood:     -42.509 \n",
              "Df Model:           3                F-statistic:        78.98   \n",
              "Df Residuals:       21               Prob (F-statistic): 1.33e-11\n",
              "R-squared:          0.919            Scale:              2.0901  \n",
              "------------------------------------------------------------------\n",
              "              Coef.   Std.Err.     t     P>|t|    [0.025    0.975]\n",
              "------------------------------------------------------------------\n",
              "Intercept     3.2022    3.4618   0.9250  0.3655   -3.9969  10.4013\n",
              "TAR           0.9626    0.2422   3.9736  0.0007    0.4588   1.4663\n",
              "NICOTINE     -2.6317    3.9006  -0.6747  0.5072  -10.7433   5.4800\n",
              "WEIGHT       -0.1305    3.8853  -0.0336  0.9735   -8.2105   7.9495\n",
              "-----------------------------------------------------------------\n",
              "Omnibus:               0.052        Durbin-Watson:          2.860\n",
              "Prob(Omnibus):         0.974        Jarque-Bera (JB):       0.223\n",
              "Skew:                  -0.087       Prob(JB):               0.895\n",
              "Kurtosis:              2.572        Condition No.:          242  \n",
              "=================================================================\n",
              "\n",
              "\"\"\""
            ]
          },
          "metadata": {},
          "execution_count": 23
        }
      ]
    },
    {
      "cell_type": "code",
      "metadata": {
        "id": "tMigi4SPrG2E"
      },
      "source": [
        "formula1 = 'CO ~ NICOTINE + WEIGHT'\n",
        "CoSmoke_lm1 = ols(formula1, data=CoSmoke).fit()"
      ],
      "execution_count": null,
      "outputs": []
    },
    {
      "cell_type": "code",
      "metadata": {
        "colab": {
          "base_uri": "https://localhost:8080/",
          "height": 338
        },
        "id": "aHKLRGFvsxlu",
        "outputId": "d1704d25-e650-4947-9e10-a1f4fed16e0e"
      },
      "source": [
        "CoSmoke_lm1.summary2()"
      ],
      "execution_count": null,
      "outputs": [
        {
          "output_type": "execute_result",
          "data": {
            "text/html": [
              "<table class=\"simpletable\">\n",
              "<tr>\n",
              "        <td>Model:</td>               <td>OLS</td>         <td>Adj. R-squared:</td>     <td>0.844</td> \n",
              "</tr>\n",
              "<tr>\n",
              "  <td>Dependent Variable:</td>        <td>CO</td>               <td>AIC:</td>         <td>105.0357</td>\n",
              "</tr>\n",
              "<tr>\n",
              "         <td>Date:</td>        <td>2021-09-29 05:08</td>        <td>BIC:</td>         <td>108.6924</td>\n",
              "</tr>\n",
              "<tr>\n",
              "   <td>No. Observations:</td>         <td>25</td>          <td>Log-Likelihood:</td>    <td>-49.518</td>\n",
              "</tr>\n",
              "<tr>\n",
              "       <td>Df Model:</td>              <td>2</td>           <td>F-statistic:</td>       <td>66.13</td> \n",
              "</tr>\n",
              "<tr>\n",
              "     <td>Df Residuals:</td>           <td>22</td>        <td>Prob (F-statistic):</td> <td>4.97e-10</td>\n",
              "</tr>\n",
              "<tr>\n",
              "      <td>R-squared:</td>            <td>0.857</td>            <td>Scale:</td>         <td>3.4952</td> \n",
              "</tr>\n",
              "</table>\n",
              "<table class=\"simpletable\">\n",
              "<tr>\n",
              "      <td></td>       <th>Coef.</th>  <th>Std.Err.</th>    <th>t</th>    <th>P>|t|</th>  <th>[0.025</th>  <th>0.975]</th> \n",
              "</tr>\n",
              "<tr>\n",
              "  <th>Intercept</th> <td>1.6140</td>   <td>4.4466</td>  <td>0.3630</td> <td>0.7201</td>  <td>-7.6078</td> <td>10.8357</td>\n",
              "</tr>\n",
              "<tr>\n",
              "  <th>NICOTINE</th>  <td>12.3881</td>  <td>1.2447</td>  <td>9.9524</td> <td>0.0000</td>  <td>9.8067</td>  <td>14.9695</td>\n",
              "</tr>\n",
              "<tr>\n",
              "  <th>WEIGHT</th>    <td>0.0588</td>   <td>5.0240</td>  <td>0.0117</td> <td>0.9908</td> <td>-10.3602</td> <td>10.4779</td>\n",
              "</tr>\n",
              "</table>\n",
              "<table class=\"simpletable\">\n",
              "<tr>\n",
              "     <td>Omnibus:</td>    <td>0.376</td>  <td>Durbin-Watson:</td>   <td>2.676</td>\n",
              "</tr>\n",
              "<tr>\n",
              "  <td>Prob(Omnibus):</td> <td>0.829</td> <td>Jarque-Bera (JB):</td> <td>0.520</td>\n",
              "</tr>\n",
              "<tr>\n",
              "       <td>Skew:</td>     <td>0.215</td>     <td>Prob(JB):</td>     <td>0.771</td>\n",
              "</tr>\n",
              "<tr>\n",
              "     <td>Kurtosis:</td>   <td>2.440</td>  <td>Condition No.:</td>    <td>30</td>  \n",
              "</tr>\n",
              "</table>"
            ],
            "text/plain": [
              "<class 'statsmodels.iolib.summary2.Summary'>\n",
              "\"\"\"\n",
              "                 Results: Ordinary least squares\n",
              "=================================================================\n",
              "Model:              OLS              Adj. R-squared:     0.844   \n",
              "Dependent Variable: CO               AIC:                105.0357\n",
              "Date:               2021-09-29 05:08 BIC:                108.6924\n",
              "No. Observations:   25               Log-Likelihood:     -49.518 \n",
              "Df Model:           2                F-statistic:        66.13   \n",
              "Df Residuals:       22               Prob (F-statistic): 4.97e-10\n",
              "R-squared:          0.857            Scale:              3.4952  \n",
              "------------------------------------------------------------------\n",
              "               Coef.   Std.Err.    t     P>|t|    [0.025    0.975]\n",
              "------------------------------------------------------------------\n",
              "Intercept      1.6140    4.4466  0.3630  0.7201   -7.6078  10.8357\n",
              "NICOTINE      12.3881    1.2447  9.9524  0.0000    9.8067  14.9695\n",
              "WEIGHT         0.0588    5.0240  0.0117  0.9908  -10.3602  10.4779\n",
              "-----------------------------------------------------------------\n",
              "Omnibus:              0.376        Durbin-Watson:           2.676\n",
              "Prob(Omnibus):        0.829        Jarque-Bera (JB):        0.520\n",
              "Skew:                 0.215        Prob(JB):                0.771\n",
              "Kurtosis:             2.440        Condition No.:           30   \n",
              "=================================================================\n",
              "\n",
              "\"\"\""
            ]
          },
          "metadata": {},
          "execution_count": 25
        }
      ]
    },
    {
      "cell_type": "code",
      "metadata": {
        "colab": {
          "base_uri": "https://localhost:8080/"
        },
        "id": "eJMxGU3rti5E",
        "outputId": "ca3f6f5b-f8e3-47bf-d7d6-b42dd225011e"
      },
      "source": [
        "print(\"Sum of Squared Errors (SSE): {:.2f}\".format(CoSmoke_lm.ssr)) \n",
        "print(\"Sum of Squared Regression (SSR): {:.2f}\".format(CoSmoke_lm.ess)) \n",
        "print(\"Sum of Squared Total (SST): {:.2f}\".format(CoSmoke_lm.centered_tss)) \n",
        "print(\"Residual df (n-p): {:.0f}\".format(CoSmoke_lm.df_resid))\n",
        "print(\"Mean Squared errors (MSE): {:.2f}\".format(CoSmoke_lm.mse_resid))\n",
        "print(\"Standard Errors (Se): {:.2f}\".format(np.sqrt(CoSmoke_lm.mse_resid)))"
      ],
      "execution_count": null,
      "outputs": [
        {
          "output_type": "stream",
          "name": "stdout",
          "text": [
            "Sum of Squared Errors (SSE): 43.89\n",
            "Sum of Squared Regression (SSR): 495.26\n",
            "Sum of Squared Total (SST): 539.15\n",
            "Residual df (n-p): 21\n",
            "Mean Squared errors (MSE): 2.09\n",
            "Standard Errors (Se): 1.45\n"
          ]
        }
      ]
    }
  ]
}